{
 "cells": [
  {
   "cell_type": "code",
   "execution_count": null,
   "metadata": {
    "collapsed": false
   },
   "outputs": [],
   "source": [
    "import os\n",
    "folder = 'raw_data/nf_prize_dataset.tar/download/download/training_set'\n",
    "\n",
    "user_map = {}\n",
    "item_map = {}\n",
    "\n",
    "\n",
    "# sample 5K * 5K subset\n",
    "for root, dirs, files in os.walk(folder):\n",
    "    \n",
    "    for movie_file_name in files:\n",
    "        \n",
    "        movie_id = int(movie_file_name.split('_')[1].split('.')[0])\n",
    "        if movie_id%100==0:\n",
    "            print 'processing file: %s' % movie_file_name \n",
    "        \n",
    "        movie_file = open(os.path.join(root,movie_file_name))\n",
    "        \n",
    "        # skip the sign\n",
    "        movie_file.readline()\n",
    "        \n",
    "        for line in movie_file.readlines():\n",
    "#             print line\n",
    "            components = line.strip().split(',')\n",
    "            user_id = components[0]\n",
    "            rating = components[1]\n",
    "            if user_id in user_map:\n",
    "                user_map[user_id] += 1\n",
    "            else:\n",
    "                user_map[user_id] = 1\n",
    "        movie_file.close()\n",
    "        \n",
    "        "
   ]
  },
  {
   "cell_type": "code",
   "execution_count": null,
   "metadata": {
    "collapsed": false
   },
   "outputs": [],
   "source": [
    "import operator\n",
    "sorted_user_map = sorted(user_map.items(),key=operator.itemgetter(1), reverse=True)"
   ]
  },
  {
   "cell_type": "code",
   "execution_count": null,
   "metadata": {
    "collapsed": false
   },
   "outputs": [],
   "source": [
    "sorted_user_map"
   ]
  },
  {
   "cell_type": "code",
   "execution_count": null,
   "metadata": {
    "collapsed": false
   },
   "outputs": [],
   "source": [
    "f = open('netflix_user.txt','wb')\n",
    "for t in sorted_user_map:\n",
    "    f.write(t[0] + ',' + str(t[1]) +  '\\n')\n",
    "f.close()"
   ]
  },
  {
   "cell_type": "code",
   "execution_count": null,
   "metadata": {
    "collapsed": false
   },
   "outputs": [],
   "source": [
    "item_map = {}\n",
    "\n",
    "\n",
    "# sample 5K * 5K subset\n",
    "for root, dirs, files in os.walk(folder):\n",
    "    \n",
    "    for movie_file_name in files:\n",
    "        \n",
    "        movie_id = int(movie_file_name.split('_')[1].split('.')[0])\n",
    "        if movie_id%100==0:\n",
    "            print 'processing file: %s' % movie_file_name \n",
    "        \n",
    "        movie_file = open(os.path.join(root,movie_file_name))\n",
    "        \n",
    "        for i,l in enumerate(movie_file):\n",
    "            pass\n",
    "        item_map[movie_id] = i;\n",
    "        movie_file.close()"
   ]
  },
  {
   "cell_type": "code",
   "execution_count": null,
   "metadata": {
    "collapsed": true
   },
   "outputs": [],
   "source": [
    "sorted_item_map = sorted(item_map.items(),key=operator.itemgetter(1), reverse=True)"
   ]
  },
  {
   "cell_type": "code",
   "execution_count": null,
   "metadata": {
    "collapsed": false
   },
   "outputs": [],
   "source": [
    "sorted_item_map"
   ]
  },
  {
   "cell_type": "code",
   "execution_count": null,
   "metadata": {
    "collapsed": false
   },
   "outputs": [],
   "source": [
    "f = open('netflix_item.txt','wb')\n",
    "for t in sorted_item_map:\n",
    "    f.write(str(t[0]) + ',' + str(t[1]) +  '\\n')\n",
    "f.close()"
   ]
  }
 ],
 "metadata": {
  "kernelspec": {
   "display_name": "Python 2",
   "language": "python",
   "name": "python2"
  },
  "language_info": {
   "codemirror_mode": {
    "name": "ipython",
    "version": 2
   },
   "file_extension": ".py",
   "mimetype": "text/x-python",
   "name": "python",
   "nbconvert_exporter": "python",
   "pygments_lexer": "ipython2",
   "version": "2.7.12"
  }
 },
 "nbformat": 4,
 "nbformat_minor": 1
}
