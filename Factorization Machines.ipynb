{
 "cells": [
  {
   "cell_type": "markdown",
   "metadata": {},
   "source": [
    "## SGD for FM [STEFFEN RENDLE]\n",
    "* 目标函数\n",
    "$$\\hat{y} = w_0 + \\sum_{j=1}^{p}w_jx_j+\\frac{1}{2}\\sum_{f=1}^{k}[(\\sum_{j=1}^{p}v_{j,f}x_j)^2-\\sum_{j=1}^{p}v_{j,f}^2x_j^2]$$"
   ]
  },
  {
   "cell_type": "markdown",
   "metadata": {},
   "source": [
    "* 加入正则项，防止过拟合\n",
    "* Algorithm for SGD\n",
    "![](img_fm/3.png)\n",
    "* Gridents\n",
    "$$\\frac{\\partial}{\\partial\\theta}l^{LS}(\\hat{y}(\\vec{x}|\\vec{\\theta},y)) = \\frac{\\partial}{\\partial\\theta}(\\hat{y}(\\vec{x}|\\vec{\\theta})-y)^2 = 2(\\hat{y}(\\vec{x}|\\vec{\\theta})-y)\\frac{\\partial}{\\partial\\theta}\\hat{y}(\\vec{x}|\\vec{\\theta})$$\n",
    "![](img_fm/4.png)"
   ]
  },
  {
   "cell_type": "markdown",
   "metadata": {},
   "source": [
    "* Little tip for Numpy and sparse matrix\n",
    "> numpy's dot function does not have native support for handling sparse matrices. What is happening is numpy thinks of the sparse matrix C as a python object"
   ]
  },
  {
   "cell_type": "markdown",
   "metadata": {},
   "source": [
    "### load data"
   ]
  },
  {
   "cell_type": "code",
   "execution_count": 3,
   "metadata": {
    "collapsed": true
   },
   "outputs": [],
   "source": [
    "import numpy as np\n",
    "from sklearn.feature_extraction import DictVectorizer\n",
    "import math\n",
    "import matplotlib.pyplot as plt\n",
    "# Read in data\n",
    "def loadData(filename,path=\"ml-100k/\"):\n",
    "    data = []\n",
    "    y = []\n",
    "    users=set()\n",
    "    items=set()\n",
    "    with open(path+filename) as f:\n",
    "        for line in f:\n",
    "            (user,movieid,rating,ts)=line.split('\\t')\n",
    "            data.append({ \"user_id\": str(user), \"movie_id\": str(movieid)})\n",
    "            y.append(float(rating))\n",
    "            users.add(user)\n",
    "            items.add(movieid)\n",
    "\n",
    "    return (data, np.array(y), users, items)"
   ]
  },
  {
   "cell_type": "markdown",
   "metadata": {},
   "source": [
    "### 使用SGD训练FM"
   ]
  },
  {
   "cell_type": "code",
   "execution_count": 4,
   "metadata": {
    "collapsed": false,
    "scrolled": true
   },
   "outputs": [],
   "source": [
    "class FM_SGD():\n",
    "    \n",
    "    def __init__(self,\n",
    "                iter_num,\n",
    "                learning_rate,\n",
    "                factors_num,\n",
    "                reg,\n",
    "                verbose = True):\n",
    "        \n",
    "        # 迭代次数\n",
    "        self.iter_num = iter_num\n",
    "        \n",
    "        #学习速率\n",
    "        self.learning_rate = learning_rate\n",
    "        \n",
    "        # 分解器feature个数\n",
    "        self.factors_num = factors_num\n",
    "        \n",
    "        # lambda\n",
    "        self.reg = reg\n",
    "        \n",
    "        # 输出执行信息\n",
    "        self.verbose = verbose\n",
    "        \n",
    "        # global bias\n",
    "        self.w0 = 0;\n",
    "        \n",
    "        # feature bias\n",
    "        self.W = 0;\n",
    "        \n",
    "        # feature\n",
    "        self.V = 0;\n",
    "        \n",
    "        # 训练过程中的mse\n",
    "        self.mse = []\n",
    "        \n",
    "        # target y的最大值与最小值，for prune\n",
    "        self.y_max = 0.0;\n",
    "        self.y_min = 0.0;\n",
    "        \n",
    "        \n",
    "    def train(self, X_, y_):\n",
    "        \n",
    "        (n,p) = X_.shape\n",
    "        \n",
    "        self.mse = []\n",
    "        \n",
    "        # global bias\n",
    "        self.w0 = sum(np.random.rand(1))  # bias\n",
    "        \n",
    "        # feature bias\n",
    "        self.W = np.random.rand(1,p)\n",
    "        \n",
    "        # feature\n",
    "        self.V = np.random.rand(p,self.factors_num)\n",
    "        \n",
    "        self.y_max = np.max(y_)\n",
    "        self.y_min = np.min(y_)\n",
    "        \n",
    "        for j in xrange(self.iter_num):\n",
    "            \n",
    "            loss_sgd = []\n",
    "\n",
    "            # shuffle\n",
    "            reidx = np.random.permutation(n)\n",
    "            X_train = X_[reidx,:]\n",
    "            y_train = y_[reidx]\n",
    "\n",
    "            \n",
    "\n",
    "            for i in xrange(n):\n",
    "\n",
    "                if self.verbose and i%1000 ==0:\n",
    "                    print 'prossing ' + str(i) + 'th sample...'\n",
    "\n",
    "                X = X_train[i,:]\n",
    "                y = y_train[i]\n",
    "\n",
    "                # too slow\n",
    "            #     y_predict = (w0 + W*X.T + ((X.T*X).multiply((np.triu(V.dot(V.T),1)))).sum().sum())[0,0]\n",
    "\n",
    "                tmp = np.sum(X.T.multiply(self.V),axis=0)\n",
    "                factor_part = (np.sum(np.multiply(tmp,tmp)) - np.sum((X.T.multiply(X.T)).multiply(np.multiply(self.V,self.V))))/2\n",
    "                y_predict = self.w0 + np.sum(self.W*X.T) + factor_part\n",
    "                \n",
    "#                 print y_predict\n",
    "\n",
    "                # prune\n",
    "                if y_predict < self.y_min:\n",
    "                    y_predict = self.y_min\n",
    "\n",
    "                if y_predict > self.y_max:\n",
    "                    y_predict = self.y_max\n",
    "\n",
    "                diff = y_predict-y\n",
    "                loss_sgd.append(math.pow(diff,2))\n",
    "\n",
    "                # update mse\n",
    "                self.mse.append(sum(loss_sgd)/len(loss_sgd))\n",
    "\n",
    "                # update w0\n",
    "                self.w0 = self.w0 - self.learning_rate*2*diff * (1)\n",
    "                \n",
    "                # update W\n",
    "                self.W = self.W - self.learning_rate*2*diff * (X)\n",
    "                \n",
    "                # update V\n",
    "                self.V = self.V - self.learning_rate * 2*diff* (X.T.multiply((np.tile(X*self.V,(p,1)) - X.T.multiply(self.V))))\n",
    "\n",
    "    def validate(self, X_, y_):\n",
    "        (n,p) = X_.shape\n",
    "        \n",
    "        mse = []\n",
    "        \n",
    "\n",
    "        for i in xrange(n):\n",
    "\n",
    "            if self.verbose and i%1000 ==0:\n",
    "                print 'prossing ' + str(i) + 'th sample...'\n",
    "\n",
    "            X = X_train[i,:]\n",
    "            y = y_train[i]\n",
    "\n",
    "            # too slow\n",
    "        #     y_predict = (w0 + W*X.T + ((X.T*X).multiply((np.triu(V.dot(V.T),1)))).sum().sum())[0,0]\n",
    "\n",
    "            tmp = np.sum(X.T.multiply(self.V),axis=0)\n",
    "            factor_part = (np.sum(np.multiply(tmp,tmp)) - np.sum((X.T.multiply(X.T)).multiply(np.multiply(self.V,self.V))))/2\n",
    "            y_predict = self.w0 + np.sum(self.W*X.T) + factor_part\n",
    "\n",
    "#                 print y_predict\n",
    "\n",
    "            # prune\n",
    "            if y_predict < self.y_min:\n",
    "                y_predict = self.y_min\n",
    "\n",
    "            if y_predict > self.y_max:\n",
    "                y_predict = self.y_max\n",
    "\n",
    "            diff = y_predict-y\n",
    "            loss_sgd.append(math.pow(diff,2))\n",
    "\n",
    "            # update mse\n",
    "            mse.append(sum(loss_sgd)/len(loss_sgd))\n",
    "        return mse"
   ]
  },
  {
   "cell_type": "code",
   "execution_count": 26,
   "metadata": {
    "collapsed": false,
    "scrolled": true
   },
   "outputs": [
    {
     "name": "stdout",
     "output_type": "stream",
     "text": [
      "prossing 0th sample...\n",
      "prossing 1000th sample...\n"
     ]
    },
    {
     "ename": "KeyboardInterrupt",
     "evalue": "",
     "output_type": "error",
     "traceback": [
      "\u001b[0;31m---------------------------------------------------------------------------\u001b[0m",
      "\u001b[0;31mKeyboardInterrupt\u001b[0m                         Traceback (most recent call last)",
      "\u001b[0;32m<ipython-input-26-d8c3af547b90>\u001b[0m in \u001b[0;36m<module>\u001b[0;34m()\u001b[0m\n\u001b[1;32m      9\u001b[0m                \u001b[0mfactors_num\u001b[0m\u001b[1;33m=\u001b[0m\u001b[1;36m10\u001b[0m\u001b[1;33m,\u001b[0m\u001b[1;33m\u001b[0m\u001b[0m\n\u001b[1;32m     10\u001b[0m                reg=0.1)\n\u001b[0;32m---> 11\u001b[0;31m \u001b[0mfm_sgd\u001b[0m\u001b[1;33m.\u001b[0m\u001b[0mtrain\u001b[0m\u001b[1;33m(\u001b[0m\u001b[0mX_train\u001b[0m\u001b[1;33m,\u001b[0m\u001b[0my_train\u001b[0m\u001b[1;33m)\u001b[0m\u001b[1;33m\u001b[0m\u001b[0m\n\u001b[0m",
      "\u001b[0;32m<ipython-input-4-da84b3d0d0ba>\u001b[0m in \u001b[0;36mtrain\u001b[0;34m(self, X_, y_)\u001b[0m\n\u001b[1;32m    106\u001b[0m \u001b[1;33m\u001b[0m\u001b[0m\n\u001b[1;32m    107\u001b[0m                 \u001b[1;31m# update V\u001b[0m\u001b[1;33m\u001b[0m\u001b[1;33m\u001b[0m\u001b[0m\n\u001b[0;32m--> 108\u001b[0;31m                 \u001b[0mself\u001b[0m\u001b[1;33m.\u001b[0m\u001b[0mV\u001b[0m \u001b[1;33m=\u001b[0m \u001b[0mself\u001b[0m\u001b[1;33m.\u001b[0m\u001b[0mV\u001b[0m \u001b[1;33m-\u001b[0m \u001b[0mself\u001b[0m\u001b[1;33m.\u001b[0m\u001b[0mlearning_rate\u001b[0m \u001b[1;33m*\u001b[0m \u001b[1;36m2\u001b[0m\u001b[1;33m*\u001b[0m\u001b[0mdiff\u001b[0m\u001b[1;33m*\u001b[0m \u001b[1;33m(\u001b[0m\u001b[0mX\u001b[0m\u001b[1;33m.\u001b[0m\u001b[0mT\u001b[0m\u001b[1;33m.\u001b[0m\u001b[0mmultiply\u001b[0m\u001b[1;33m(\u001b[0m\u001b[1;33m(\u001b[0m\u001b[0mnp\u001b[0m\u001b[1;33m.\u001b[0m\u001b[0mtile\u001b[0m\u001b[1;33m(\u001b[0m\u001b[0mX\u001b[0m\u001b[1;33m*\u001b[0m\u001b[0mself\u001b[0m\u001b[1;33m.\u001b[0m\u001b[0mV\u001b[0m\u001b[1;33m,\u001b[0m\u001b[1;33m(\u001b[0m\u001b[0mp\u001b[0m\u001b[1;33m,\u001b[0m\u001b[1;36m1\u001b[0m\u001b[1;33m)\u001b[0m\u001b[1;33m)\u001b[0m \u001b[1;33m-\u001b[0m \u001b[0mX\u001b[0m\u001b[1;33m.\u001b[0m\u001b[0mT\u001b[0m\u001b[1;33m.\u001b[0m\u001b[0mmultiply\u001b[0m\u001b[1;33m(\u001b[0m\u001b[0mself\u001b[0m\u001b[1;33m.\u001b[0m\u001b[0mV\u001b[0m\u001b[1;33m)\u001b[0m\u001b[1;33m)\u001b[0m\u001b[1;33m)\u001b[0m\u001b[1;33m)\u001b[0m\u001b[1;33m\u001b[0m\u001b[0m\n\u001b[0m\u001b[1;32m    109\u001b[0m \u001b[1;33m\u001b[0m\u001b[0m\n\u001b[1;32m    110\u001b[0m     \u001b[1;32mdef\u001b[0m \u001b[0mvalidate\u001b[0m\u001b[1;33m(\u001b[0m\u001b[0mself\u001b[0m\u001b[1;33m,\u001b[0m \u001b[0mX_\u001b[0m\u001b[1;33m,\u001b[0m \u001b[0my_\u001b[0m\u001b[1;33m)\u001b[0m\u001b[1;33m:\u001b[0m\u001b[1;33m\u001b[0m\u001b[0m\n",
      "\u001b[0;31mKeyboardInterrupt\u001b[0m: "
     ]
    }
   ],
   "source": [
    "(train_data, y_train, train_users, train_items) = loadData(\"ua.base\")\n",
    "(test_data, y_test, test_users, test_items) = loadData(\"ua.test\")\n",
    "\n",
    "v = DictVectorizer()\n",
    "X_train = v.fit_transform(train_data)\n",
    "X_test = v.transform(test_data)\n",
    "fm_sgd = FM_SGD(iter_num=1,\n",
    "               learning_rate=0.01,\n",
    "               factors_num=10,\n",
    "               reg=0.1)\n",
    "fm_sgd.train(X_train,y_train)"
   ]
  },
  {
   "cell_type": "code",
   "execution_count": 27,
   "metadata": {
    "collapsed": false
   },
   "outputs": [
    {
     "data": {
      "text/plain": [
       "[<matplotlib.lines.Line2D at 0x202c8978>]"
      ]
     },
     "execution_count": 27,
     "metadata": {},
     "output_type": "execute_result"
    },
    {
     "data": {
      "image/png": "[encoded data removed]",
      "text/plain": [
       "<matplotlib.figure.Figure at 0x1b93bda0>"
      ]
     },
     "metadata": {},
     "output_type": "display_data"
    }
   ],
   "source": [
    "%matplotlib inline\n",
    "from pylab import rcParams\n",
    "rcParams['figure.figsize'] = 15,6\n",
    "plt.grid(True)\n",
    "plt.plot(fm_sgd.mse)"
   ]
  },
  {
   "cell_type": "markdown",
   "metadata": {
    "collapsed": true
   },
   "source": [
    "### 使用ADAGRAD 训练FM"
   ]
  },
  {
   "cell_type": "markdown",
   "metadata": {},
   "source": [
    "* SGD的弊端在于使用了一个恒定的全局的学习速率，无法根据feature的gradient更新速率来动态调整更新学习速率\n",
    "* 为了解决这一弊端，我们为每一个参数维护一个学习速率，随着迭代次数的增加，根据总的gradient来更新学习速率"
   ]
  },
  {
   "cell_type": "code",
   "execution_count": 36,
   "metadata": {
    "collapsed": true
   },
   "outputs": [],
   "source": [
    "class FM_ADAGRAD():\n",
    "    \n",
    "    def __init__(self,\n",
    "                iter_num,\n",
    "                learning_rate,\n",
    "                factors_num,\n",
    "                reg,\n",
    "                verbose = True):\n",
    "        \n",
    "        # 迭代次数\n",
    "        self.iter_num = iter_num\n",
    "        \n",
    "        #学习速率\n",
    "        self.learning_rate = learning_rate\n",
    "        \n",
    "        # 分解器feature个数\n",
    "        self.factors_num = factors_num\n",
    "        \n",
    "        # lambda\n",
    "        self.reg = reg\n",
    "        \n",
    "        # 输出执行信息\n",
    "        self.verbose = verbose\n",
    "        \n",
    "        # global bias\n",
    "        self.w0 = 0;\n",
    "        \n",
    "        # feature bias\n",
    "        self.W = 0;\n",
    "        \n",
    "        # feature\n",
    "        self.V = 0;\n",
    "        \n",
    "        # 训练过程中的mse\n",
    "        self.mse = []\n",
    "        \n",
    "        # target y的最大值与最小值，for prune\n",
    "        self.y_max = 0.0;\n",
    "        self.y_min = 0.0;\n",
    "        \n",
    "        \n",
    "    def train(self, X_, y_):\n",
    "        \n",
    "        (n,p) = X_.shape\n",
    "        \n",
    "        self.mse = []\n",
    "        \n",
    "        # global bias\n",
    "        self.w0 = sum(np.random.rand(1))  # bias\n",
    "        \n",
    "        # feature bias\n",
    "        self.W = np.random.rand(1,p)\n",
    "        \n",
    "        # feature\n",
    "        self.V = np.random.rand(p,self.factors_num)\n",
    "        \n",
    "        self.y_max = np.max(y_)\n",
    "        self.y_min = np.min(y_)\n",
    "        \n",
    "        # keep track of all parameters \n",
    "        w0_gradients = 0.0;\n",
    "        W_gradients = np.zeros((1,p))\n",
    "        V_gradients = np.zeros((p,self.factors_num))\n",
    "        \n",
    "        # avoid 0 numerator\n",
    "        epison = 1e-8\n",
    "        \n",
    "        for j in xrange(self.iter_num):\n",
    "            \n",
    "            loss_sgd = []\n",
    "\n",
    "            # shuffle\n",
    "            reidx = np.random.permutation(n)\n",
    "            X_train = X_[reidx,:]\n",
    "            y_train = y_[reidx]\n",
    "\n",
    "            \n",
    "\n",
    "            for i in xrange(n):\n",
    "\n",
    "                if self.verbose and i%1000 ==0:\n",
    "                    print 'prossing ' + str(i) + 'th sample...'\n",
    "\n",
    "                X = X_train[i,:]\n",
    "                y = y_train[i]\n",
    "\n",
    "                # too slow\n",
    "            #     y_predict = (w0 + W*X.T + ((X.T*X).multiply((np.triu(V.dot(V.T),1)))).sum().sum())[0,0]\n",
    "\n",
    "                tmp = np.sum(X.T.multiply(self.V),axis=0)\n",
    "                factor_part = (np.sum(np.multiply(tmp,tmp)) - np.sum((X.T.multiply(X.T)).multiply(np.multiply(self.V,self.V))))/2\n",
    "                y_predict = self.w0 + np.sum(self.W*X.T) + factor_part\n",
    "                \n",
    "#                 print y_predict\n",
    "\n",
    "                # prune\n",
    "                if y_predict < self.y_min:\n",
    "                    y_predict = self.y_min\n",
    "\n",
    "                if y_predict > self.y_max:\n",
    "                    y_predict = self.y_max\n",
    "\n",
    "                diff = y_predict-y\n",
    "                loss_sgd.append(math.pow(diff,2))\n",
    "\n",
    "                # update mse\n",
    "                self.mse.append(sum(loss_sgd)/len(loss_sgd))\n",
    "\n",
    "                # update w0\n",
    "                gradient = 2*diff * (1)\n",
    "                w0_gradients += np.square(gradient)\n",
    "                self.w0 = self.w0 - self.learning_rate/np.sqrt(w0_gradients+epison)*gradient\n",
    "                \n",
    "                \n",
    "                # update W\n",
    "                gradient = 2*diff * (X)\n",
    "                W_gradients += gradient.multiply(gradient)\n",
    "                self.W = self.W - gradient.multiply(self.learning_rate/np.sqrt(W_gradients+epison))\n",
    "                \n",
    "#                 print W_gradients.shape\n",
    "#                 print gradient.shape\n",
    "                \n",
    "                \n",
    "                \n",
    "                # update V\n",
    "                gradient = 2*diff* (X.T.multiply((np.tile(X*self.V,(p,1)) - X.T.multiply(self.V))))\n",
    "                V_gradients += np.multiply(gradient,gradient)\n",
    "                self.V = self.V - np.multiply(self.learning_rate/np.sqrt(V_gradients+epison),gradient)\n",
    "                \n",
    "\n",
    "    def validate(self, X_, y_):\n",
    "        (n,p) = X_.shape\n",
    "        \n",
    "        mse = []\n",
    "        \n",
    "\n",
    "        for i in xrange(n):\n",
    "\n",
    "            if self.verbose and i%1000 ==0:\n",
    "                print 'prossing ' + str(i) + 'th sample...'\n",
    "\n",
    "            X = X_train[i,:]\n",
    "            y = y_train[i]\n",
    "\n",
    "            # too slow\n",
    "        #     y_predict = (w0 + W*X.T + ((X.T*X).multiply((np.triu(V.dot(V.T),1)))).sum().sum())[0,0]\n",
    "\n",
    "            tmp = np.sum(X.T.multiply(self.V),axis=0)\n",
    "            factor_part = (np.sum(np.multiply(tmp,tmp)) - np.sum((X.T.multiply(X.T)).multiply(np.multiply(self.V,self.V))))/2\n",
    "            y_predict = self.w0 + np.sum(self.W*X.T) + factor_part\n",
    "\n",
    "#                 print y_predict\n",
    "\n",
    "            # prune\n",
    "            if y_predict < self.y_min:\n",
    "                y_predict = self.y_min\n",
    "\n",
    "            if y_predict > self.y_max:\n",
    "                y_predict = self.y_max\n",
    "\n",
    "            diff = y_predict-y\n",
    "            loss_sgd.append(math.pow(diff,2))\n",
    "\n",
    "            # update mse\n",
    "            mse.append(sum(loss_sgd)/len(loss_sgd))\n",
    "        return mse"
   ]
  },
  {
   "cell_type": "code",
   "execution_count": 37,
   "metadata": {
    "collapsed": false,
    "scrolled": true
   },
   "outputs": [
    {
     "name": "stdout",
     "output_type": "stream",
     "text": [
      "prossing 0th sample...\n",
      "prossing 1000th sample...\n",
      "prossing 2000th sample...\n",
      "prossing 3000th sample...\n",
      "prossing 4000th sample...\n"
     ]
    },
    {
     "ename": "KeyboardInterrupt",
     "evalue": "",
     "output_type": "error",
     "traceback": [
      "\u001b[0;31m---------------------------------------------------------------------------\u001b[0m",
      "\u001b[0;31mKeyboardInterrupt\u001b[0m                         Traceback (most recent call last)",
      "\u001b[0;32m<ipython-input-37-b35e41eca8d2>\u001b[0m in \u001b[0;36m<module>\u001b[0;34m()\u001b[0m\n\u001b[1;32m      9\u001b[0m                \u001b[0mfactors_num\u001b[0m\u001b[1;33m=\u001b[0m\u001b[1;36m10\u001b[0m\u001b[1;33m,\u001b[0m\u001b[1;33m\u001b[0m\u001b[0m\n\u001b[1;32m     10\u001b[0m                reg=0.1)\n\u001b[0;32m---> 11\u001b[0;31m \u001b[0mfm_adagrad\u001b[0m\u001b[1;33m.\u001b[0m\u001b[0mtrain\u001b[0m\u001b[1;33m(\u001b[0m\u001b[0mX_train\u001b[0m\u001b[1;33m,\u001b[0m\u001b[0my_train\u001b[0m\u001b[1;33m)\u001b[0m\u001b[1;33m\u001b[0m\u001b[0m\n\u001b[0m",
      "\u001b[0;32m<ipython-input-36-b90141c0ca52>\u001b[0m in \u001b[0;36mtrain\u001b[0;34m(self, X_, y_)\u001b[0m\n\u001b[1;32m    126\u001b[0m                 \u001b[0mgradient\u001b[0m \u001b[1;33m=\u001b[0m \u001b[1;36m2\u001b[0m\u001b[1;33m*\u001b[0m\u001b[0mdiff\u001b[0m\u001b[1;33m*\u001b[0m \u001b[1;33m(\u001b[0m\u001b[0mX\u001b[0m\u001b[1;33m.\u001b[0m\u001b[0mT\u001b[0m\u001b[1;33m.\u001b[0m\u001b[0mmultiply\u001b[0m\u001b[1;33m(\u001b[0m\u001b[1;33m(\u001b[0m\u001b[0mnp\u001b[0m\u001b[1;33m.\u001b[0m\u001b[0mtile\u001b[0m\u001b[1;33m(\u001b[0m\u001b[0mX\u001b[0m\u001b[1;33m*\u001b[0m\u001b[0mself\u001b[0m\u001b[1;33m.\u001b[0m\u001b[0mV\u001b[0m\u001b[1;33m,\u001b[0m\u001b[1;33m(\u001b[0m\u001b[0mp\u001b[0m\u001b[1;33m,\u001b[0m\u001b[1;36m1\u001b[0m\u001b[1;33m)\u001b[0m\u001b[1;33m)\u001b[0m \u001b[1;33m-\u001b[0m \u001b[0mX\u001b[0m\u001b[1;33m.\u001b[0m\u001b[0mT\u001b[0m\u001b[1;33m.\u001b[0m\u001b[0mmultiply\u001b[0m\u001b[1;33m(\u001b[0m\u001b[0mself\u001b[0m\u001b[1;33m.\u001b[0m\u001b[0mV\u001b[0m\u001b[1;33m)\u001b[0m\u001b[1;33m)\u001b[0m\u001b[1;33m)\u001b[0m\u001b[1;33m)\u001b[0m\u001b[1;33m\u001b[0m\u001b[0m\n\u001b[1;32m    127\u001b[0m                 \u001b[0mV_gradients\u001b[0m \u001b[1;33m+=\u001b[0m \u001b[0mnp\u001b[0m\u001b[1;33m.\u001b[0m\u001b[0mmultiply\u001b[0m\u001b[1;33m(\u001b[0m\u001b[0mgradient\u001b[0m\u001b[1;33m,\u001b[0m\u001b[0mgradient\u001b[0m\u001b[1;33m)\u001b[0m\u001b[1;33m\u001b[0m\u001b[0m\n\u001b[0;32m--> 128\u001b[0;31m                 \u001b[0mself\u001b[0m\u001b[1;33m.\u001b[0m\u001b[0mV\u001b[0m \u001b[1;33m=\u001b[0m \u001b[0mself\u001b[0m\u001b[1;33m.\u001b[0m\u001b[0mV\u001b[0m \u001b[1;33m-\u001b[0m \u001b[0mnp\u001b[0m\u001b[1;33m.\u001b[0m\u001b[0mmultiply\u001b[0m\u001b[1;33m(\u001b[0m\u001b[0mself\u001b[0m\u001b[1;33m.\u001b[0m\u001b[0mlearning_rate\u001b[0m\u001b[1;33m/\u001b[0m\u001b[0mnp\u001b[0m\u001b[1;33m.\u001b[0m\u001b[0msqrt\u001b[0m\u001b[1;33m(\u001b[0m\u001b[0mV_gradients\u001b[0m\u001b[1;33m+\u001b[0m\u001b[0mepison\u001b[0m\u001b[1;33m)\u001b[0m\u001b[1;33m,\u001b[0m\u001b[0mgradient\u001b[0m\u001b[1;33m)\u001b[0m\u001b[1;33m\u001b[0m\u001b[0m\n\u001b[0m\u001b[1;32m    129\u001b[0m \u001b[1;33m\u001b[0m\u001b[0m\n\u001b[1;32m    130\u001b[0m \u001b[1;33m\u001b[0m\u001b[0m\n",
      "\u001b[0;31mKeyboardInterrupt\u001b[0m: "
     ]
    }
   ],
   "source": [
    "(train_data, y_train, train_users, train_items) = loadData(\"ua.base\")\n",
    "(test_data, y_test, test_users, test_items) = loadData(\"ua.test\")\n",
    "\n",
    "v = DictVectorizer()\n",
    "X_train = v.fit_transform(train_data)\n",
    "X_test = v.transform(test_data)\n",
    "fm_adagrad = FM_ADAGRAD(iter_num=1,\n",
    "               learning_rate=0.1,\n",
    "               factors_num=10,\n",
    "               reg=0.1)\n",
    "fm_adagrad.train(X_train,y_train)"
   ]
  },
  {
   "cell_type": "code",
   "execution_count": 38,
   "metadata": {
    "collapsed": false
   },
   "outputs": [
    {
     "data": {
      "text/plain": [
       "[<matplotlib.lines.Line2D at 0x2013cfd0>]"
      ]
     },
     "execution_count": 38,
     "metadata": {},
     "output_type": "execute_result"
    },
    {
     "data": {
      "image/png": "[encoded data removed]",
      "text/plain": [
       "<matplotlib.figure.Figure at 0x1b32b048>"
      ]
     },
     "metadata": {},
     "output_type": "display_data"
    }
   ],
   "source": [
    "%matplotlib inline\n",
    "from pylab import rcParams\n",
    "rcParams['figure.figsize'] = 15,6\n",
    "plt.grid(True)\n",
    "plt.plot(fm_adagrad.mse)"
   ]
  },
  {
   "cell_type": "code",
   "execution_count": 35,
   "metadata": {
    "collapsed": false
   },
   "outputs": [
    {
     "data": {
      "text/plain": [
       "matrix([[ 0.76254285,  0.06492544,  0.56569196, ...,  0.48441543,\n",
       "          0.39205454,  0.08779889]])"
      ]
     },
     "execution_count": 35,
     "metadata": {},
     "output_type": "execute_result"
    }
   ],
   "source": [
    "fm_adagrad.W"
   ]
  },
  {
   "cell_type": "markdown",
   "metadata": {},
   "source": [
    "### 使用ADADelta训练FM"
   ]
  },
  {
   "cell_type": "code",
   "execution_count": null,
   "metadata": {
    "collapsed": true
   },
   "outputs": [],
   "source": []
  }
 ],
 "metadata": {
  "kernelspec": {
   "display_name": "Python 2",
   "language": "python",
   "name": "python2"
  },
  "language_info": {
   "codemirror_mode": {
    "name": "ipython",
    "version": 2
   },
   "file_extension": ".py",
   "mimetype": "text/x-python",
   "name": "python",
   "nbconvert_exporter": "python",
   "pygments_lexer": "ipython2",
   "version": "2.7.12"
  }
 },
 "nbformat": 4,
 "nbformat_minor": 0
}
