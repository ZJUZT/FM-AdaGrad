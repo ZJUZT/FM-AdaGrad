{
 "cells": [
  {
   "cell_type": "code",
   "execution_count": 6,
   "metadata": {
    "collapsed": true
   },
   "outputs": [],
   "source": [
    "def get_topk(file_name, k):\n",
    "    res = []\n",
    "    f = open(file_name)\n",
    "    line_count = 0\n",
    "    for line in f.readlines():\n",
    "        componemts = line.strip().split(',')\n",
    "        res.append(int(componemts[0]))\n",
    "        line_count += 1\n",
    "        if line_count == k:\n",
    "            break\n",
    "    f.close()\n",
    "    return res"
   ]
  },
  {
   "cell_type": "code",
   "execution_count": 8,
   "metadata": {
    "collapsed": true
   },
   "outputs": [],
   "source": [
    "def reidx(ori_list):\n",
    "    i = 1\n",
    "    res = {}\n",
    "    for a in ori_list:\n",
    "        res[a] = i;\n",
    "        i += 1\n",
    "    return res"
   ]
  },
  {
   "cell_type": "code",
   "execution_count": 7,
   "metadata": {
    "collapsed": false
   },
   "outputs": [],
   "source": [
    "user_num = 3000\n",
    "item_num = 3000\n",
    "\n",
    "user_file = 'netflix_user.txt'\n",
    "item_file = 'netflix_item.txt'\n",
    "\n",
    "\n",
    "user = get_topk(user_file,user_num)\n",
    "item = get_topk(item_file,item_num)\n",
    "\n",
    "user_idx = reidx(user)\n",
    "item_idx = reidx(item)\n"
   ]
  },
  {
   "cell_type": "code",
   "execution_count": null,
   "metadata": {
    "collapsed": true
   },
   "outputs": [],
   "source": [
    "folder = 'raw_data/nf_prize_dataset.tar/download/download/training_set'\n",
    "\n",
    "output = 'netflix_subset.csv'\n",
    "\n",
    "f_write = open(output,'wb')\n",
    "\n",
    "for root, dirs, files in os.walk(folder):\n",
    "    \n",
    "    for movie_file_name in files:\n",
    "        \n",
    "        movie_id = int(movie_file_name.split('_')[1].split('.')[0])\n",
    "        if movie_id%100==0:\n",
    "            print 'processing file: %s' % movie_file_name \n",
    "        \n",
    "        if movie_id not in item:\n",
    "            continue\n",
    "        \n",
    "        movie_file = open(os.path.join(root,movie_file_name))\n",
    "        \n",
    "        # skip the sign\n",
    "        movie_file.readline()\n",
    "        \n",
    "        for line in movie_file.readlines():\n",
    "#             print line\n",
    "            components = line.strip().split(',')\n",
    "            user_id = int(components[0])\n",
    "            if user_id not in user:\n",
    "                continue\n",
    "            rating = components[1]\n",
    "            f_write.write(str(user_id) + ',' + str(movie_id) + ',' + rating + '\\n')\n",
    "        movie_file.close()\n",
    "\n",
    "f_write.close()"
   ]
  }
 ],
 "metadata": {
  "kernelspec": {
   "display_name": "Python 2",
   "language": "python",
   "name": "python2"
  },
  "language_info": {
   "codemirror_mode": {
    "name": "ipython",
    "version": 2
   },
   "file_extension": ".py",
   "mimetype": "text/x-python",
   "name": "python",
   "nbconvert_exporter": "python",
   "pygments_lexer": "ipython2",
   "version": "2.7.12"
  }
 },
 "nbformat": 4,
 "nbformat_minor": 1
}
