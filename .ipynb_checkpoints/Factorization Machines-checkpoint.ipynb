{
 "cells": [
  {
   "cell_type": "markdown",
   "metadata": {},
   "source": [
    "## SGD for FM [STEFFEN RENDLE]\n",
    "* 目标函数\n",
    "$$\\hat{y} = w_0 + \\sum_{j=1}^{p}w_jx_j+\\frac{1}{2}\\sum_{f=1}^{k}[(\\sum_{j=1}^{p}v_{j,f}x_j)^2-\\sum_{j=1}^{p}v_{j,f}^2x_j^2]$$"
   ]
  },
  {
   "cell_type": "markdown",
   "metadata": {},
   "source": [
    "* 加入正则项，防止过拟合\n",
    "* Algorithm for SGD\n",
    "![](img_fm/3.png)\n",
    "* Gridents\n",
    "$$\\frac{\\partial}{\\partial\\theta}l^{LS}(\\hat{y}(\\vec{x}|\\vec{\\theta},y)) = \\frac{\\partial}{\\partial\\theta}(\\hat{y}(\\vec{x}|\\vec{\\theta})-y)^2 = 2(\\hat{y}(\\vec{x}|\\vec{\\theta})-y)\\frac{\\partial}{\\partial\\theta}\\hat{y}(\\vec{x}|\\vec{\\theta})$$\n",
    "![](img_fm/4.png)"
   ]
  },
  {
   "cell_type": "markdown",
   "metadata": {},
   "source": [
    "* Little tip for Numpy and sparse matrix\n",
    "> numpy's dot function does not have native support for handling sparse matrices. What is happening is numpy thinks of the sparse matrix C as a python object"
   ]
  },
  {
   "cell_type": "markdown",
   "metadata": {},
   "source": [
    "### load data"
   ]
  },
  {
   "cell_type": "code",
   "execution_count": 32,
   "metadata": {
    "collapsed": true
   },
   "outputs": [],
   "source": [
    "import numpy as np\n",
    "from sklearn.feature_extraction import DictVectorizer\n",
    "import math\n",
    "import matplotlib.pyplot as plt\n",
    "# Read in data\n",
    "def loadData(filename,path=\"ml-100k/\"):\n",
    "    data = []\n",
    "    y = []\n",
    "    users=set()\n",
    "    items=set()\n",
    "    with open(path+filename) as f:\n",
    "        for line in f:\n",
    "            (user,movieid,rating,ts)=line.split('\\t')\n",
    "            data.append({ \"user_id\": str(user), \"movie_id\": str(movieid)})\n",
    "            y.append(float(rating))\n",
    "            users.add(user)\n",
    "            items.add(movieid)\n",
    "\n",
    "    return (data, np.array(y), users, items)"
   ]
  },
  {
   "cell_type": "markdown",
   "metadata": {},
   "source": [
    "### 使用SGD训练FM"
   ]
  },
  {
   "cell_type": "code",
   "execution_count": 37,
   "metadata": {
    "collapsed": false,
    "scrolled": true
   },
   "outputs": [],
   "source": [
    "# -*- coding: utf-8 -*-\n",
    "import numpy as np\n",
    "import math\n",
    "\n",
    "\n",
    "class FM_SGD:\n",
    "    def __init__(self,\n",
    "                 iter_num,\n",
    "                 learning_rate,\n",
    "                 factors_num,\n",
    "                 reg_w,\n",
    "                 reg_v,\n",
    "                 verbose=True):\n",
    "\n",
    "        # 迭代次数\n",
    "        self.iter_num = iter_num\n",
    "\n",
    "        # 学习速率\n",
    "        self.learning_rate = learning_rate\n",
    "\n",
    "        # 分解器feature个数\n",
    "        self.factors_num = factors_num\n",
    "\n",
    "        # lambda\n",
    "        self.reg_w = reg_w\n",
    "\n",
    "        self.reg_v = reg_v\n",
    "\n",
    "        # 输出执行信息\n",
    "        self.verbose = verbose\n",
    "\n",
    "        # global bias\n",
    "        self.w0 = 0\n",
    "\n",
    "        # feature bias\n",
    "        self.W = 0\n",
    "\n",
    "        # feature\n",
    "        self.V = 0\n",
    "\n",
    "        # 训练过程中的mse\n",
    "        self.mse = []\n",
    "\n",
    "        # target y的最大值与最小值，for prune\n",
    "        self.y_max = 0.0\n",
    "        self.y_min = 0.0\n",
    "\n",
    "    def train(self, X_, y_):\n",
    "\n",
    "        (n, p) = X_.shape\n",
    "\n",
    "        self.mse = []\n",
    "\n",
    "        # global bias\n",
    "        self.w0 = np.sum(np.random.rand(1, 1))  # bias\n",
    "\n",
    "        # feature bias\n",
    "        self.W = np.random.rand(1, p)\n",
    "\n",
    "        # feature\n",
    "        self.V = np.random.rand(p, self.factors_num)\n",
    "\n",
    "        self.y_max = np.max(y_)\n",
    "        self.y_min = np.min(y_)\n",
    "\n",
    "        for j in xrange(self.iter_num):\n",
    "\n",
    "            loss_sgd = []\n",
    "\n",
    "            # shuffle\n",
    "            reidx = np.random.permutation(n)\n",
    "            X_train = X_[reidx, :]\n",
    "            y_train = y_[reidx]\n",
    "\n",
    "            for i in xrange(n):\n",
    "\n",
    "                if self.verbose and i % 10000 == 0:\n",
    "                    print 'processing ' + str(i) + 'th sample...'\n",
    "\n",
    "                X = X_train[i, :]\n",
    "                y = y_train[i]\n",
    "\n",
    "                # too slow\n",
    "                #     y_predict = (w0 + W*X.T + ((X.T*X).multiply((np.triu(V.dot(V.T),1)))).sum().sum())[0,0]\n",
    "\n",
    "                X = X.toarray()\n",
    "\n",
    "                tmp = np.sum(X.T * self.V, axis=0)\n",
    "                factor_part = (np.sum(tmp * tmp) - np.sum(\n",
    "                    (X.T*X.T)*(self.V * self.V))) / 2\n",
    "                y_predict = self.w0 + np.sum(np.dot(self.W, X.T)) + factor_part\n",
    "\n",
    "                # prune\n",
    "                if y_predict < self.y_min:\n",
    "                    y_predict = self.y_min\n",
    "\n",
    "                if y_predict > self.y_max:\n",
    "                    y_predict = self.y_max\n",
    "\n",
    "                diff = y_predict - y\n",
    "                loss_sgd.append(math.pow(diff, 2))\n",
    "\n",
    "                # update mse\n",
    "                self.mse.append(sum(loss_sgd) / len(loss_sgd))\n",
    "\n",
    "                # update w0\n",
    "                self.w0 -= self.learning_rate * (2 * diff * 1 + 2*self.reg_w*self.w0)\n",
    "\n",
    "                # update W\n",
    "                self.W -= self.learning_rate * (2 * diff * X + 2*self.reg_w*self.W)\n",
    "\n",
    "                # update V\n",
    "                self.V -= self.learning_rate * (2 * diff * (\n",
    "                    X.T * (np.dot(X, self.V) - X.T * self.V)) + 2 * self.reg_v * self.V)\n",
    "\n",
    "    def validate(self, X_, y_):\n",
    "        (n, p) = X_.shape\n",
    "\n",
    "        mse = []\n",
    "        loss_sgd = []\n",
    "\n",
    "        for i in xrange(n):\n",
    "\n",
    "            if self.verbose and i % 1000 == 0:\n",
    "                print 'prossing ' + str(i) + 'th sample...'\n",
    "\n",
    "            X = X_[i, :]\n",
    "            y = y_[i]\n",
    "\n",
    "            # too slow\n",
    "            #     y_predict = (w0 + W*X.T + ((X.T*X).multiply((np.triu(V.dot(V.T),1)))).sum().sum())[0,0]\n",
    "\n",
    "            tmp = np.sum(X.T.multiply(self.V), axis=0)\n",
    "            factor_part = (np.sum(np.multiply(tmp, tmp)) - np.sum(\n",
    "                (X.T.multiply(X.T)).multiply(np.multiply(self.V, self.V)))) / 2\n",
    "            y_predict = self.w0 + self.W * X.T + factor_part\n",
    "\n",
    "            #                 print y_predict\n",
    "\n",
    "            # prune\n",
    "            if y_predict < self.y_min:\n",
    "                y_predict = self.y_min\n",
    "\n",
    "            if y_predict > self.y_max:\n",
    "                y_predict = self.y_max\n",
    "\n",
    "            diff = y_predict - y\n",
    "            loss_sgd.append(math.pow(diff, 2))\n",
    "\n",
    "            # update mse\n",
    "            mse.append(sum(loss_sgd) / len(loss_sgd))\n",
    "        return mse"
   ]
  },
  {
   "cell_type": "code",
   "execution_count": 54,
   "metadata": {
    "collapsed": false,
    "scrolled": true
   },
   "outputs": [
    {
     "name": "stdout",
     "output_type": "stream",
     "text": [
      "processing 0th sample...\n",
      "processing 10000th sample...\n",
      "processing 20000th sample...\n",
      "processing 30000th sample...\n",
      "processing 40000th sample...\n",
      "processing 50000th sample...\n",
      "processing 60000th sample...\n",
      "processing 70000th sample...\n",
      "processing 80000th sample...\n",
      "processing 90000th sample...\n",
      "---209.798000097 seconds---\n"
     ]
    }
   ],
   "source": [
    "import time\n",
    "(train_data, y_train, train_users, train_items) = loadData(\"ua.base\")\n",
    "(test_data, y_test, test_users, test_items) = loadData(\"ua.test\")\n",
    "\n",
    "v = DictVectorizer()\n",
    "X_train = v.fit_transform(train_data)\n",
    "X_test = v.transform(test_data)\n",
    "\n",
    "start = time.time()\n",
    "fm_sgd = FM_SGD(iter_num=1,\n",
    "               learning_rate=0.01,\n",
    "               factors_num=10,\n",
    "               reg_w=0.01,\n",
    "               reg_v = 0.001)\n",
    "fm_sgd.train(X_train,y_train)\n",
    "print '---%s seconds---' %(time.time() - start)"
   ]
  },
  {
   "cell_type": "code",
   "execution_count": 10,
   "metadata": {
    "collapsed": false
   },
   "outputs": [
    {
     "data": {
      "text/plain": [
       "[<matplotlib.lines.Line2D at 0x1f8a5898>]"
      ]
     },
     "execution_count": 10,
     "metadata": {},
     "output_type": "execute_result"
    },
    {
     "data": {
      "image/png": "[encoded data removed]",
      "text/plain": [
       "<matplotlib.figure.Figure at 0x1f896eb8>"
      ]
     },
     "metadata": {},
     "output_type": "display_data"
    }
   ],
   "source": [
    "%matplotlib inline\n",
    "from pylab import rcParams\n",
    "rcParams['figure.figsize'] = 15,6\n",
    "plt.grid(True)\n",
    "plt.plot(fm_sgd.mse)"
   ]
  },
  {
   "cell_type": "markdown",
   "metadata": {
    "collapsed": true
   },
   "source": [
    "### 使用ADAGRAD 训练FM"
   ]
  },
  {
   "cell_type": "markdown",
   "metadata": {},
   "source": [
    "* SGD的弊端在于使用了一个恒定的全局的学习速率，无法根据feature的gradient更新速率来动态调整更新学习速率\n",
    "* 为了解决这一弊端，我们为每一个参数维护一个学习速率，随着迭代次数的增加，根据总的gradient来更新学习速率"
   ]
  },
  {
   "cell_type": "code",
   "execution_count": null,
   "metadata": {
    "collapsed": true
   },
   "outputs": [],
   "source": [
    "class FM_ADAGRAD():\n",
    "    \n",
    "    def __init__(self,\n",
    "                iter_num,\n",
    "                learning_rate,\n",
    "                factors_num,\n",
    "                reg,\n",
    "                verbose = True):\n",
    "        \n",
    "        # 迭代次数\n",
    "        self.iter_num = iter_num\n",
    "        \n",
    "        #学习速率\n",
    "        self.learning_rate = learning_rate\n",
    "        \n",
    "        # 分解器feature个数\n",
    "        self.factors_num = factors_num\n",
    "        \n",
    "        # lambda\n",
    "        self.reg = reg\n",
    "        \n",
    "        # 输出执行信息\n",
    "        self.verbose = verbose\n",
    "        \n",
    "        # global bias\n",
    "        self.w0 = 0;\n",
    "        \n",
    "        # feature bias\n",
    "        self.W = 0;\n",
    "        \n",
    "        # feature\n",
    "        self.V = 0;\n",
    "        \n",
    "        # 训练过程中的mse\n",
    "        self.mse = []\n",
    "        \n",
    "        # target y的最大值与最小值，for prune\n",
    "        self.y_max = 0.0;\n",
    "        self.y_min = 0.0;\n",
    "        \n",
    "        \n",
    "    def train(self, X_, y_):\n",
    "        \n",
    "        (n,p) = X_.shape\n",
    "        \n",
    "        self.mse = []\n",
    "        \n",
    "        # global bias\n",
    "        self.w0 = sum(np.random.rand(1))  # bias\n",
    "        \n",
    "        # feature bias\n",
    "        self.W = np.random.rand(1,p)\n",
    "        \n",
    "        # feature\n",
    "        self.V = np.random.rand(p,self.factors_num)\n",
    "        \n",
    "        self.y_max = np.max(y_)\n",
    "        self.y_min = np.min(y_)\n",
    "        \n",
    "        # keep track of all parameters \n",
    "        w0_gradients = 0.0;\n",
    "        W_gradients = np.zeros((1,p))\n",
    "        V_gradients = np.zeros((p,self.factors_num))\n",
    "        \n",
    "        # avoid 0 numerator\n",
    "        epison = 1e-8\n",
    "        \n",
    "        for j in xrange(self.iter_num):\n",
    "            \n",
    "            loss_sgd = []\n",
    "\n",
    "            # shuffle\n",
    "            reidx = np.random.permutation(n)\n",
    "            X_train = X_[reidx,:]\n",
    "            y_train = y_[reidx]\n",
    "\n",
    "            \n",
    "\n",
    "            for i in xrange(n):\n",
    "\n",
    "                if self.verbose and i%1000 ==0:\n",
    "                    print 'prossing ' + str(i) + 'th sample...'\n",
    "\n",
    "                X = X_train[i,:]\n",
    "                y = y_train[i]\n",
    "\n",
    "                # too slow\n",
    "            #     y_predict = (w0 + W*X.T + ((X.T*X).multiply((np.triu(V.dot(V.T),1)))).sum().sum())[0,0]\n",
    "\n",
    "                tmp = np.sum(X.T.multiply(self.V),axis=0)\n",
    "                factor_part = (np.sum(np.multiply(tmp,tmp)) - np.sum((X.T.multiply(X.T)).multiply(np.multiply(self.V,self.V))))/2\n",
    "                y_predict = self.w0 + np.sum(self.W*X.T) + factor_part\n",
    "                \n",
    "#                 print y_predict\n",
    "\n",
    "                # prune\n",
    "                if y_predict < self.y_min:\n",
    "                    y_predict = self.y_min\n",
    "\n",
    "                if y_predict > self.y_max:\n",
    "                    y_predict = self.y_max\n",
    "\n",
    "                diff = y_predict-y\n",
    "                loss_sgd.append(math.pow(diff,2))\n",
    "\n",
    "                # update mse\n",
    "                self.mse.append(sum(loss_sgd)/len(loss_sgd))\n",
    "\n",
    "                # update w0\n",
    "                gradient = 2*diff * (1)\n",
    "                w0_gradients += np.square(gradient)\n",
    "                self.w0 = self.w0 - self.learning_rate/np.sqrt(w0_gradients+epison)*gradient\n",
    "                \n",
    "                \n",
    "                # update W\n",
    "                gradient = 2*diff * (X)\n",
    "                W_gradients += gradient.multiply(gradient)\n",
    "                self.W = self.W - gradient.multiply(self.learning_rate/np.sqrt(W_gradients+epison))\n",
    "                \n",
    "#                 print W_gradients.shape\n",
    "#                 print gradient.shape\n",
    "                \n",
    "                \n",
    "                \n",
    "                # update V\n",
    "                gradient = 2*diff* (X.T.multiply((np.tile(X*self.V,(p,1)) - X.T.multiply(self.V))))\n",
    "                V_gradients += np.multiply(gradient,gradient)\n",
    "                self.V = self.V - np.multiply(self.learning_rate/np.sqrt(V_gradients+epison),gradient)\n",
    "                \n",
    "\n",
    "    def validate(self, X_, y_):\n",
    "        (n,p) = X_.shape\n",
    "        \n",
    "        mse = []\n",
    "        \n",
    "\n",
    "        for i in xrange(n):\n",
    "\n",
    "            if self.verbose and i%1000 ==0:\n",
    "                print 'prossing ' + str(i) + 'th sample...'\n",
    "\n",
    "            X = X_train[i,:]\n",
    "            y = y_train[i]\n",
    "\n",
    "            # too slow\n",
    "        #     y_predict = (w0 + W*X.T + ((X.T*X).multiply((np.triu(V.dot(V.T),1)))).sum().sum())[0,0]\n",
    "\n",
    "            tmp = np.sum(X.T.multiply(self.V),axis=0)\n",
    "            factor_part = (np.sum(np.multiply(tmp,tmp)) - np.sum((X.T.multiply(X.T)).multiply(np.multiply(self.V,self.V))))/2\n",
    "            y_predict = self.w0 + np.sum(self.W*X.T) + factor_part\n",
    "\n",
    "#                 print y_predict\n",
    "\n",
    "            # prune\n",
    "            if y_predict < self.y_min:\n",
    "                y_predict = self.y_min\n",
    "\n",
    "            if y_predict > self.y_max:\n",
    "                y_predict = self.y_max\n",
    "\n",
    "            diff = y_predict-y\n",
    "            loss_sgd.append(math.pow(diff,2))\n",
    "\n",
    "            # update mse\n",
    "            mse.append(sum(loss_sgd)/len(loss_sgd))\n",
    "        return mse"
   ]
  },
  {
   "cell_type": "code",
   "execution_count": null,
   "metadata": {
    "collapsed": false,
    "scrolled": true
   },
   "outputs": [],
   "source": [
    "(train_data, y_train, train_users, train_items) = loadData(\"ua.base\")\n",
    "(test_data, y_test, test_users, test_items) = loadData(\"ua.test\")\n",
    "\n",
    "v = DictVectorizer()\n",
    "X_train = v.fit_transform(train_data)\n",
    "X_test = v.transform(test_data)\n",
    "fm_adagrad = FM_ADAGRAD(iter_num=1,\n",
    "               learning_rate=0.1,\n",
    "               factors_num=10,\n",
    "               reg=0.1)\n",
    "fm_adagrad.train(X_train,y_train)"
   ]
  },
  {
   "cell_type": "code",
   "execution_count": null,
   "metadata": {
    "collapsed": false
   },
   "outputs": [],
   "source": [
    "%matplotlib inline\n",
    "from pylab import rcParams\n",
    "rcParams['figure.figsize'] = 15,6\n",
    "plt.grid(True)\n",
    "plt.plot(fm_adagrad.mse)"
   ]
  },
  {
   "cell_type": "code",
   "execution_count": null,
   "metadata": {
    "collapsed": false
   },
   "outputs": [],
   "source": [
    "fm_adagrad.W"
   ]
  },
  {
   "cell_type": "markdown",
   "metadata": {
    "collapsed": true
   },
   "source": [
    "## Local Linear Factorization Machines"
   ]
  },
  {
   "cell_type": "code",
   "execution_count": 58,
   "metadata": {
    "collapsed": false
   },
   "outputs": [],
   "source": [
    "# -*- coding: utf-8 -*-\n",
    "import math\n",
    "\n",
    "import numpy as np\n",
    "from sklearn.cluster import KMeans\n",
    "from sklearn.cluster import MiniBatchKMeans\n",
    "\n",
    "\n",
    "class LLFM_SGD:\n",
    "    def __init__(self,\n",
    "                 iter_num,\n",
    "                 learning_rate,\n",
    "                 factors_num,\n",
    "                 reg_w,\n",
    "                 reg_v,\n",
    "                 anchor_num,\n",
    "                 neighbor_num,\n",
    "                 verbose=True):\n",
    "\n",
    "        # 迭代次数\n",
    "        self.iter_num = iter_num\n",
    "\n",
    "        # 学习速率\n",
    "        self.learning_rate = learning_rate\n",
    "\n",
    "        # 分解器feature个数\n",
    "        self.factors_num = factors_num\n",
    "\n",
    "        # lambda\n",
    "        self.reg_w = reg_w\n",
    "\n",
    "        self.reg_v = reg_v\n",
    "\n",
    "        # 输出执行信息\n",
    "        self.verbose = verbose\n",
    "\n",
    "        # global bias\n",
    "        self.w0 = 0\n",
    "\n",
    "        # feature bias\n",
    "        self.W = 0\n",
    "\n",
    "        # feature\n",
    "        self.V = 0\n",
    "\n",
    "        # 训练过程中的mse\n",
    "        self.mse = []\n",
    "\n",
    "        # target y的最大值与最小值，for prune\n",
    "        self.y_max = 0.0\n",
    "        self.y_min = 0.0\n",
    "\n",
    "        # anchor point 的个数\n",
    "        self.anchor_num = anchor_num\n",
    "\n",
    "        # find k-nearest anchor points\n",
    "        self.neighbor_num = neighbor_num\n",
    "\n",
    "        # anchor point\n",
    "        self.anchor_points = np.array([0])\n",
    "\n",
    "    def knn(self, x):\n",
    "        dist = np.linalg.norm(self.anchor_points - x, axis=1)\n",
    "        idx = np.argsort(dist)\n",
    "        dist = np.exp(-dist[idx[:self.neighbor_num]])\n",
    "        gamma = dist / np.sum(dist)\n",
    "        return gamma, idx[:self.neighbor_num]\n",
    "\n",
    "    def train(self, X_, y_):\n",
    "\n",
    "        (n, p) = X_.shape\n",
    "\n",
    "        self.mse = []\n",
    "\n",
    "        # anchor bias\n",
    "        self.w0 = 0.1*np.random.rand(self.anchor_num, 1)\n",
    "\n",
    "        # feature bias\n",
    "        #         self.W = np.random.rand(1,p)\n",
    "        # local coding\n",
    "        self.W = 0.1*np.random.rand(self.anchor_num, p)\n",
    "\n",
    "        # feature\n",
    "        self.V = 0.1*np.random.rand(self.anchor_num, p, self.factors_num)\n",
    "\n",
    "        self.y_max = np.max(y_)\n",
    "        self.y_min = np.min(y_)\n",
    "\n",
    "        if self.verbose:\n",
    "            print 'performing K-means...'\n",
    "\n",
    "        # K-means get anchor points\n",
    "\n",
    "        kmeans = KMeans(n_clusters=self.anchor_num, random_state=0).fit(X_)\n",
    "\n",
    "        # mini batch\n",
    "#         kmeans = MiniBatchKMeans(n_clusters=self.anchor_num, random_state=0).fit(X_)\n",
    "        self.anchor_points = kmeans.cluster_centers_\n",
    "\n",
    "        if self.verbose:\n",
    "            print 'K-means done...'\n",
    "\n",
    "        for j in xrange(self.iter_num):\n",
    "\n",
    "            loss_sgd = []\n",
    "\n",
    "            # shuffle\n",
    "            re_idx = np.random.permutation(n)\n",
    "            x_train = X_[re_idx, :]\n",
    "            y_train = y_[re_idx]\n",
    "\n",
    "            for i in xrange(n):\n",
    "\n",
    "                if self.verbose and i % 1000 == 0:\n",
    "                    print 'processing ' + str(i) + 'th sample...'\n",
    "\n",
    "                X = x_train[i, :]\n",
    "                y = y_train[i]\n",
    "\n",
    "                (gamma, idx) = self.knn(X)\n",
    "\n",
    "                X = X.toarray()\n",
    "\n",
    "                # if self.verbose:\n",
    "                #     print 'k-nearest neighbors found...'\n",
    "\n",
    "                # reshape V to 2-dimension\n",
    "\n",
    "                # V = self.V[idx, :, :].reshape(self.neighbor_num*p, self.factors_num)\n",
    "\n",
    "                # X_repmat = np.tile(X.toarray(), (self.neighbor_num, 1))\n",
    "\n",
    "                factor_part = 0.0\n",
    "\n",
    "                for k in xrange(self.neighbor_num):\n",
    "                    tmp = np.sum(X.T * self.V[k], axis=0)\n",
    "\n",
    "                    factor_part += gamma[k] * (np.sum(tmp * tmp) - np.sum(\n",
    "                        (X.T * X.T) * (self.V[idx[k]] * self.V[idx[k]]))) / 2\n",
    "\n",
    "                y_predict = np.sum(\n",
    "                    np.dot(np.array([gamma]), self.w0[idx, :]) + np.dot(np.array([gamma]),\n",
    "                                                                        np.dot(self.W[idx, :], X.T)) + factor_part)\n",
    "\n",
    "                # prune\n",
    "                if y_predict < self.y_min:\n",
    "                    y_predict = self.y_min\n",
    "\n",
    "                if y_predict > self.y_max:\n",
    "                    y_predict = self.y_max\n",
    "\n",
    "                diff = np.sum(y_predict - y)\n",
    "                loss_sgd.append(math.pow(diff, 2))\n",
    "\n",
    "                # update mse\n",
    "                self.mse.append(sum(loss_sgd) / len(loss_sgd))\n",
    "\n",
    "                # update w0\n",
    "                self.w0[idx, :] -= np.dot(gamma, self.learning_rate * (2 * diff * 1 + 2 * self.reg_w * self.w0[idx, :]))\n",
    "\n",
    "                # update W\n",
    "                self.W[idx, :] -= np.dot(gamma, self.learning_rate * (2 * diff * X + 2 * self.reg_w * self.W[idx, :]))\n",
    "\n",
    "                # update V\n",
    "                for k in xrange(self.neighbor_num):\n",
    "                    self.V[idx[k]] -= gamma[k] * self.learning_rate * (2 * diff * (\n",
    "                        X.T * (np.dot(X, self.V[idx[k]]) - X.T * self.V[idx[k]])) + 2 * self.reg_v * self.V[idx[k]])\n",
    "\n",
    "    def validate(self, x_, y_):\n",
    "        (n, p) = x_.shape\n",
    "\n",
    "        mse = []\n",
    "        loss_sgd = []\n",
    "\n",
    "        for i in xrange(n):\n",
    "\n",
    "            if self.verbose and i % 1000 == 0:\n",
    "                print 'processing ' + str(i) + 'th sample...'\n",
    "\n",
    "            x = x_[i, :]\n",
    "            y = y_[i]\n",
    "\n",
    "            tmp = np.sum(x.T.multiply(self.V), axis=0)\n",
    "            factor_part = (np.sum(np.multiply(tmp, tmp)) - np.sum(\n",
    "                (x.T.multiply(x.T)).multiply(np.multiply(self.V, self.V)))) / 2\n",
    "            y_predict = self.w0 + np.sum(self.W * x.T) + factor_part\n",
    "\n",
    "            # prune\n",
    "            if y_predict < self.y_min:\n",
    "                y_predict = self.y_min\n",
    "\n",
    "            if y_predict > self.y_max:\n",
    "                y_predict = self.y_max\n",
    "\n",
    "            diff = y_predict - y\n",
    "            loss_sgd.append(math.pow(diff, 2))\n",
    "\n",
    "            # update mse\n",
    "            mse.append(sum(loss_sgd) / len(loss_sgd))\n",
    "        return mse\n"
   ]
  },
  {
   "cell_type": "code",
   "execution_count": 61,
   "metadata": {
    "collapsed": false,
    "scrolled": true
   },
   "outputs": [
    {
     "name": "stdout",
     "output_type": "stream",
     "text": [
      "performing K-means...\n",
      "K-means done...\n",
      "processing 0th sample...\n",
      "processing 1000th sample...\n",
      "processing 2000th sample...\n",
      "processing 3000th sample...\n",
      "processing 4000th sample...\n",
      "processing 5000th sample...\n",
      "processing 6000th sample...\n",
      "processing 7000th sample...\n",
      "processing 8000th sample...\n",
      "processing 9000th sample...\n",
      "processing 10000th sample...\n",
      "processing 11000th sample...\n",
      "processing 12000th sample...\n",
      "processing 13000th sample...\n"
     ]
    },
    {
     "ename": "KeyboardInterrupt",
     "evalue": "",
     "output_type": "error",
     "traceback": [
      "\u001b[0;31m---------------------------------------------------------------------------\u001b[0m",
      "\u001b[0;31mKeyboardInterrupt\u001b[0m                         Traceback (most recent call last)",
      "\u001b[0;32m<ipython-input-61-3d5c11a7133a>\u001b[0m in \u001b[0;36m<module>\u001b[0;34m()\u001b[0m\n\u001b[1;32m     15\u001b[0m                     \u001b[0mneighbor_num\u001b[0m\u001b[1;33m=\u001b[0m\u001b[1;36m10\u001b[0m\u001b[1;33m\u001b[0m\u001b[0m\n\u001b[1;32m     16\u001b[0m                     )\n\u001b[0;32m---> 17\u001b[0;31m \u001b[0mllfm_sgd\u001b[0m\u001b[1;33m.\u001b[0m\u001b[0mtrain\u001b[0m\u001b[1;33m(\u001b[0m\u001b[0mX_train\u001b[0m\u001b[1;33m,\u001b[0m \u001b[0my_train\u001b[0m\u001b[1;33m)\u001b[0m\u001b[1;33m\u001b[0m\u001b[0m\n\u001b[0m\u001b[1;32m     18\u001b[0m \u001b[1;33m\u001b[0m\u001b[0m\n\u001b[1;32m     19\u001b[0m \u001b[1;31m#\u001b[0m\u001b[1;33m\u001b[0m\u001b[1;33m\u001b[0m\u001b[0m\n",
      "\u001b[0;32m<ipython-input-58-b500182c04aa>\u001b[0m in \u001b[0;36mtrain\u001b[0;34m(self, X_, y_)\u001b[0m\n\u001b[1;32m    165\u001b[0m                 \u001b[1;32mfor\u001b[0m \u001b[0mk\u001b[0m \u001b[1;32min\u001b[0m \u001b[0mxrange\u001b[0m\u001b[1;33m(\u001b[0m\u001b[0mself\u001b[0m\u001b[1;33m.\u001b[0m\u001b[0mneighbor_num\u001b[0m\u001b[1;33m)\u001b[0m\u001b[1;33m:\u001b[0m\u001b[1;33m\u001b[0m\u001b[0m\n\u001b[1;32m    166\u001b[0m                     self.V[idx[k]] -= gamma[k] * self.learning_rate * (2 * diff * (\n\u001b[0;32m--> 167\u001b[0;31m                         X.T * (np.dot(X, self.V[idx[k]]) - X.T * self.V[idx[k]])) + 2 * self.reg_v * self.V[idx[k]])\n\u001b[0m\u001b[1;32m    168\u001b[0m \u001b[1;33m\u001b[0m\u001b[0m\n\u001b[1;32m    169\u001b[0m     \u001b[1;32mdef\u001b[0m \u001b[0mvalidate\u001b[0m\u001b[1;33m(\u001b[0m\u001b[0mself\u001b[0m\u001b[1;33m,\u001b[0m \u001b[0mx_\u001b[0m\u001b[1;33m,\u001b[0m \u001b[0my_\u001b[0m\u001b[1;33m)\u001b[0m\u001b[1;33m:\u001b[0m\u001b[1;33m\u001b[0m\u001b[0m\n",
      "\u001b[0;31mKeyboardInterrupt\u001b[0m: "
     ]
    }
   ],
   "source": [
    "(train_data, y_train, train_users, train_items) = loadData(\"ua.base\")\n",
    "(test_data, y_test, test_users, test_items) = loadData(\"ua.test\")\n",
    "\n",
    "v = DictVectorizer()\n",
    "X_train = v.fit_transform(train_data)\n",
    "X_test = v.transform(test_data)\n",
    "start_time = time.time()\n",
    "\n",
    "llfm_sgd = LLFM_SGD(iter_num=1,\n",
    "                    learning_rate=0.01,\n",
    "                    factors_num=10,\n",
    "                    reg_w=0.01,\n",
    "                    reg_v=0.001,\n",
    "                    anchor_num=100,\n",
    "                    neighbor_num=10\n",
    "                    )\n",
    "llfm_sgd.train(X_train, y_train)\n",
    "\n",
    "#\n",
    "# fm_sgd = FM_SGD(iter_num=1,\n",
    "#                 learning_rate=0.01,\n",
    "#                 factors_num=10,\n",
    "#                 reg=0.1)\n",
    "# fm_sgd.train(X_train, y_train)\n",
    "print '----%s seconds-----' % (time.time() - start_time)"
   ]
  },
  {
   "cell_type": "code",
   "execution_count": 62,
   "metadata": {
    "collapsed": false
   },
   "outputs": [
    {
     "data": {
      "image/png": "[encoded data removed]",
      "text/plain": [
       "<matplotlib.figure.Figure at 0x2a4f2898>"
      ]
     },
     "metadata": {},
     "output_type": "display_data"
    }
   ],
   "source": [
    "%matplotlib inline\n",
    "from pylab import rcParams\n",
    "rcParams['figure.figsize'] = 15,6\n",
    "plt.grid(True)\n",
    "plt.plot(llfm_sgd.mse)\n",
    "plt.plot(fm_sgd.mse)\n",
    "plt.legend(['llfmsgd','sgd'])\n",
    "plt.xlabel('Number of samples seen')\n",
    "plt.ylabel('MSE')\n",
    "plt.show()"
   ]
  },
  {
   "cell_type": "code",
   "execution_count": 92,
   "metadata": {
    "collapsed": false
   },
   "outputs": [],
   "source": [
    "a = np.ones((10000,10))\n",
    "b = 2*np.ones((1,2000))"
   ]
  },
  {
   "cell_type": "code",
   "execution_count": 93,
   "metadata": {
    "collapsed": false
   },
   "outputs": [
    {
     "ename": "ValueError",
     "evalue": "shapes (1,2000) and (10000,10) not aligned: 2000 (dim 1) != 10000 (dim 0)",
     "output_type": "error",
     "traceback": [
      "\u001b[0;31m---------------------------------------------------------------------------\u001b[0m",
      "\u001b[0;31mValueError\u001b[0m                                Traceback (most recent call last)",
      "\u001b[0;32m<ipython-input-93-919b2ab6633f>\u001b[0m in \u001b[0;36m<module>\u001b[0;34m()\u001b[0m\n\u001b[0;32m----> 1\u001b[0;31m \u001b[0mnp\u001b[0m\u001b[1;33m.\u001b[0m\u001b[0mdot\u001b[0m\u001b[1;33m(\u001b[0m\u001b[0mb\u001b[0m\u001b[1;33m,\u001b[0m\u001b[0ma\u001b[0m\u001b[1;33m)\u001b[0m\u001b[1;33m\u001b[0m\u001b[0m\n\u001b[0m",
      "\u001b[0;31mValueError\u001b[0m: shapes (1,2000) and (10000,10) not aligned: 2000 (dim 1) != 10000 (dim 0)"
     ]
    }
   ],
   "source": [
    "np.dot(b,a)"
   ]
  },
  {
   "cell_type": "code",
   "execution_count": 16,
   "metadata": {
    "collapsed": false
   },
   "outputs": [],
   "source": [
    "(train_data, y_train, train_users, train_items) = loadData(\"ua.base\")\n",
    "(test_data, y_test, test_users, test_items) = loadData(\"ua.test\")\n",
    "v = DictVectorizer()\n",
    "X_train = v.fit_transform(train_data)\n",
    "X_test = v.transform(test_data)"
   ]
  },
  {
   "cell_type": "code",
   "execution_count": 17,
   "metadata": {
    "collapsed": false
   },
   "outputs": [],
   "source": [
    "from sklearn.cluster import KMeans\n",
    "from sklearn.cluster import MiniBatchKMeans\n",
    "kmeans = KMeans(n_clusters=100, random_state=0).fit(X_train)"
   ]
  },
  {
   "cell_type": "code",
   "execution_count": 18,
   "metadata": {
    "collapsed": false
   },
   "outputs": [
    {
     "data": {
      "text/plain": [
       "150969.98689071694"
      ]
     },
     "execution_count": 18,
     "metadata": {},
     "output_type": "execute_result"
    }
   ],
   "source": [
    "kmeans.inertia_"
   ]
  },
  {
   "cell_type": "code",
   "execution_count": 19,
   "metadata": {
    "collapsed": true
   },
   "outputs": [],
   "source": [
    "a = np.array([[1,2]])\n",
    "b = np.array([[2],[1]])"
   ]
  },
  {
   "cell_type": "code",
   "execution_count": 21,
   "metadata": {
    "collapsed": false
   },
   "outputs": [
    {
     "data": {
      "text/plain": [
       "(1L, 1L)"
      ]
     },
     "execution_count": 21,
     "metadata": {},
     "output_type": "execute_result"
    }
   ],
   "source": [
    "np.dot(a,b).shape"
   ]
  },
  {
   "cell_type": "code",
   "execution_count": 28,
   "metadata": {
    "collapsed": true
   },
   "outputs": [],
   "source": [
    "a = np.array([[[1,2]],\n",
    "              [[3,4]]\n",
    "             ])"
   ]
  },
  {
   "cell_type": "code",
   "execution_count": 29,
   "metadata": {
    "collapsed": false
   },
   "outputs": [
    {
     "data": {
      "text/plain": [
       "array([[1, 2]])"
      ]
     },
     "execution_count": 29,
     "metadata": {},
     "output_type": "execute_result"
    }
   ],
   "source": [
    "a[0]"
   ]
  },
  {
   "cell_type": "code",
   "execution_count": 27,
   "metadata": {
    "collapsed": false
   },
   "outputs": [
    {
     "data": {
      "text/plain": [
       "array([[1, 2],\n",
       "       [3, 4]])"
      ]
     },
     "execution_count": 27,
     "metadata": {},
     "output_type": "execute_result"
    }
   ],
   "source": [
    "a.reshape(2,2)"
   ]
  }
 ],
 "metadata": {
  "kernelspec": {
   "display_name": "Python 2",
   "language": "python",
   "name": "python2"
  },
  "language_info": {
   "codemirror_mode": {
    "name": "ipython",
    "version": 2
   },
   "file_extension": ".py",
   "mimetype": "text/x-python",
   "name": "python",
   "nbconvert_exporter": "python",
   "pygments_lexer": "ipython2",
   "version": "2.7.12"
  }
 },
 "nbformat": 4,
 "nbformat_minor": 0
}
