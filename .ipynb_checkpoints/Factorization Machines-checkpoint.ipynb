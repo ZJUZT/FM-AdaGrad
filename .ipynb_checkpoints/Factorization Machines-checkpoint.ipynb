{
 "cells": [
  {
   "cell_type": "markdown",
   "metadata": {},
   "source": [
    "## SGD for FM\n",
    "目标函数\n",
    "![](img_fm/1.png)\n",
    "加入正则项，防止过拟合\n",
    "![](img_fm/2.png)\n",
    "Algorithm for SGD\n",
    "![](img_fm/3.png)\n",
    "![](img_fm/4.png)"
   ]
  },
  {
   "cell_type": "markdown",
   "metadata": {},
   "source": [
    "> numpy's dot function does not have native support for handling sparse matrices. What is happening is numpy thinks of the sparse matrix C as a python object"
   ]
  },
  {
   "cell_type": "markdown",
   "metadata": {},
   "source": [
    "### load data"
   ]
  },
  {
   "cell_type": "code",
   "execution_count": 3,
   "metadata": {
    "collapsed": true
   },
   "outputs": [],
   "source": [
    "import numpy as np\n",
    "from sklearn.feature_extraction import DictVectorizer\n",
    "import math\n",
    "import matplotlib.pyplot as plt\n",
    "# Read in data\n",
    "def loadData(filename,path=\"ml-100k/\"):\n",
    "    data = []\n",
    "    y = []\n",
    "    users=set()\n",
    "    items=set()\n",
    "    with open(path+filename) as f:\n",
    "        for line in f:\n",
    "            (user,movieid,rating,ts)=line.split('\\t')\n",
    "            data.append({ \"user_id\": str(user), \"movie_id\": str(movieid)})\n",
    "            y.append(float(rating))\n",
    "            users.add(user)\n",
    "            items.add(movieid)\n",
    "\n",
    "    return (data, np.array(y), users, items)"
   ]
  },
  {
   "cell_type": "markdown",
   "metadata": {},
   "source": [
    "### 使用SGD训练FM"
   ]
  },
  {
   "cell_type": "code",
   "execution_count": 376,
   "metadata": {
    "collapsed": false,
    "scrolled": true
   },
   "outputs": [],
   "source": [
    "class FM_SGD():\n",
    "    \n",
    "    def __init__(self,\n",
    "                iter_num,\n",
    "                learning_rate,\n",
    "                factors_num,\n",
    "                reg,\n",
    "                verbose = True):\n",
    "        \n",
    "        # 迭代次数\n",
    "        self.iter_num = iter_num\n",
    "        \n",
    "        #学习速率\n",
    "        self.learning_rate = learning_rate\n",
    "        \n",
    "        # 分解器feature个数\n",
    "        self.factors_num = factors_num\n",
    "        \n",
    "        # lambda\n",
    "        self.reg = reg\n",
    "        \n",
    "        # 输出执行信息\n",
    "        self.verbose = verbose\n",
    "        \n",
    "        # global bias\n",
    "        self.w0 = 0;\n",
    "        \n",
    "        # feature bias\n",
    "        self.W = 0;\n",
    "        \n",
    "        # feature\n",
    "        self.V = 0;\n",
    "        \n",
    "        # 训练过程中的mse\n",
    "        self.mse = []\n",
    "        \n",
    "        # target y的最大值与最小值，for prune\n",
    "        self.y_max = 0.0;\n",
    "        self.y_min = 0.0;\n",
    "        \n",
    "        \n",
    "    def train(self, X_, y_):\n",
    "        \n",
    "        (n,p) = X_.shape\n",
    "        \n",
    "        self.mse = []\n",
    "        \n",
    "        # global bias\n",
    "        self.w0 = sum(np.random.rand(1))  # bias\n",
    "        \n",
    "        # feature bias\n",
    "        self.W = 1e-5*np.random.rand(1,p)\n",
    "        \n",
    "        # feature\n",
    "        self.V = 1e-5*np.random.rand(p,self.factors_num)\n",
    "        \n",
    "        self.y_max = np.max(y_)\n",
    "        self.y_min = np.min(y_)\n",
    "        \n",
    "        for j in xrange(self.iter_num):\n",
    "            \n",
    "            loss_sgd = []\n",
    "\n",
    "            # shuffle\n",
    "            reidx = np.random.permutation(n)\n",
    "            X_train = X_[reidx,:]\n",
    "            y_train = y_[reidx]\n",
    "\n",
    "            \n",
    "\n",
    "            for i in xrange(n):\n",
    "\n",
    "                if self.verbose and i%1000 ==0:\n",
    "                    print 'prossing ' + str(i) + 'th sample...'\n",
    "\n",
    "                X = X_train[i,:]\n",
    "                y = y_train[i]\n",
    "\n",
    "                # too slow\n",
    "            #     y_predict = (w0 + W*X.T + ((X.T*X).multiply((np.triu(V.dot(V.T),1)))).sum().sum())[0,0]\n",
    "\n",
    "                tmp = np.sum(X.T.multiply(self.V),axis=0)\n",
    "                factor_part = (np.sum(np.multiply(tmp,tmp)) - np.sum((X.T.multiply(X.T)).multiply(np.multiply(self.V,self.V))))/2\n",
    "                y_predict = self.w0 + np.sum(self.W*X.T) + factor_part\n",
    "                \n",
    "#                 print y_predict\n",
    "\n",
    "                # prune\n",
    "                if y_predict < self.y_min:\n",
    "                    y_predict = self.y_min\n",
    "\n",
    "                if y_predict > self.y_max:\n",
    "                    y_predict = self.y_max\n",
    "\n",
    "                diff = y_predict-y\n",
    "                loss_sgd.append(math.pow(diff,2))\n",
    "\n",
    "                # update mse\n",
    "                self.mse.append(sum(loss_sgd)/len(loss_sgd))\n",
    "\n",
    "                # update w0\n",
    "                self.w0 = self.w0 - learning_rate*2*diff * (1)\n",
    "                \n",
    "                # update W\n",
    "                self.W = self.W - learning_rate*2*diff * (X)\n",
    "                \n",
    "                # update V\n",
    "                self.V = self.V - learning_rate * 2*diff* (X.T.multiply((np.tile(X*self.V,(p,1)) - X.T.multiply(self.V))))\n",
    "\n",
    "    def validate(self, X_, y_):\n",
    "        (n,p) = X_.shape\n",
    "        \n",
    "        mse = []\n",
    "        \n",
    "\n",
    "        for i in xrange(n):\n",
    "\n",
    "            if self.verbose and i%1000 ==0:\n",
    "                print 'prossing ' + str(i) + 'th sample...'\n",
    "\n",
    "            X = X_train[i,:]\n",
    "            y = y_train[i]\n",
    "\n",
    "            # too slow\n",
    "        #     y_predict = (w0 + W*X.T + ((X.T*X).multiply((np.triu(V.dot(V.T),1)))).sum().sum())[0,0]\n",
    "\n",
    "            tmp = np.sum(X.T.multiply(self.V),axis=0)\n",
    "            factor_part = (np.sum(np.multiply(tmp,tmp)) - np.sum((X.T.multiply(X.T)).multiply(np.multiply(self.V,self.V))))/2\n",
    "            y_predict = self.w0 + np.sum(self.W*X.T) + factor_part\n",
    "\n",
    "#                 print y_predict\n",
    "\n",
    "            # prune\n",
    "            if y_predict < self.y_min:\n",
    "                y_predict = self.y_min\n",
    "\n",
    "            if y_predict > self.y_max:\n",
    "                y_predict = self.y_max\n",
    "\n",
    "            diff = y_predict-y\n",
    "            loss_sgd.append(math.pow(diff,2))\n",
    "\n",
    "            # update mse\n",
    "            mse.append(sum(loss_sgd)/len(loss_sgd))\n",
    "        return mse"
   ]
  },
  {
   "cell_type": "code",
   "execution_count": 378,
   "metadata": {
    "collapsed": false,
    "scrolled": true
   },
   "outputs": [
    {
     "name": "stdout",
     "output_type": "stream",
     "text": [
      "prossing 0th sample...\n",
      "prossing 1000th sample...\n",
      "prossing 2000th sample...\n",
      "prossing 3000th sample...\n",
      "prossing 4000th sample...\n",
      "prossing 5000th sample...\n",
      "prossing 6000th sample...\n",
      "prossing 7000th sample...\n",
      "prossing 8000th sample...\n",
      "prossing 9000th sample...\n",
      "prossing 10000th sample...\n",
      "prossing 11000th sample...\n",
      "prossing 12000th sample...\n",
      "prossing 13000th sample...\n",
      "prossing 14000th sample...\n",
      "prossing 15000th sample...\n",
      "prossing 16000th sample...\n",
      "prossing 17000th sample...\n",
      "prossing 18000th sample...\n",
      "prossing 19000th sample...\n",
      "prossing 20000th sample...\n",
      "prossing 21000th sample...\n",
      "prossing 22000th sample...\n",
      "prossing 23000th sample...\n",
      "prossing 24000th sample...\n",
      "prossing 25000th sample...\n",
      "prossing 26000th sample...\n",
      "prossing 27000th sample...\n",
      "prossing 28000th sample...\n",
      "prossing 29000th sample...\n",
      "prossing 30000th sample...\n",
      "prossing 31000th sample...\n",
      "prossing 32000th sample...\n",
      "prossing 33000th sample...\n",
      "prossing 34000th sample...\n",
      "prossing 35000th sample...\n",
      "prossing 36000th sample...\n",
      "prossing 37000th sample...\n",
      "prossing 38000th sample...\n",
      "prossing 39000th sample...\n",
      "prossing 40000th sample...\n",
      "prossing 41000th sample...\n",
      "prossing 42000th sample...\n",
      "prossing 43000th sample...\n",
      "prossing 44000th sample...\n",
      "prossing 45000th sample...\n",
      "prossing 46000th sample...\n",
      "prossing 47000th sample...\n",
      "prossing 48000th sample...\n",
      "prossing 49000th sample...\n",
      "prossing 50000th sample...\n",
      "prossing 51000th sample...\n",
      "prossing 52000th sample...\n",
      "prossing 53000th sample...\n",
      "prossing 54000th sample...\n",
      "prossing 55000th sample...\n",
      "prossing 56000th sample...\n",
      "prossing 57000th sample...\n",
      "prossing 58000th sample...\n",
      "prossing 59000th sample...\n",
      "prossing 60000th sample...\n",
      "prossing 61000th sample...\n",
      "prossing 62000th sample...\n",
      "prossing 63000th sample...\n",
      "prossing 64000th sample...\n",
      "prossing 65000th sample...\n",
      "prossing 66000th sample...\n",
      "prossing 67000th sample...\n",
      "prossing 68000th sample...\n",
      "prossing 69000th sample...\n",
      "prossing 70000th sample...\n",
      "prossing 71000th sample...\n",
      "prossing 72000th sample...\n",
      "prossing 73000th sample...\n",
      "prossing 74000th sample...\n",
      "prossing 75000th sample...\n",
      "prossing 76000th sample...\n",
      "prossing 77000th sample...\n",
      "prossing 78000th sample...\n",
      "prossing 79000th sample...\n",
      "prossing 80000th sample...\n",
      "prossing 81000th sample...\n",
      "prossing 82000th sample...\n",
      "prossing 83000th sample...\n",
      "prossing 84000th sample...\n",
      "prossing 85000th sample...\n",
      "prossing 86000th sample...\n",
      "prossing 87000th sample...\n",
      "prossing 88000th sample...\n",
      "prossing 89000th sample...\n",
      "prossing 90000th sample...\n"
     ]
    }
   ],
   "source": [
    "(train_data, y_train, train_users, train_items) = loadData(\"ua.base\")\n",
    "(test_data, y_test, test_users, test_items) = loadData(\"ua.test\")\n",
    "\n",
    "v = DictVectorizer()\n",
    "X_train = v.fit_transform(train_data)\n",
    "X_test = v.transform(test_data)\n",
    "fm_sgd = FM_SGD(iter_num=1,\n",
    "               learning_rate=0.01,\n",
    "               factors_num=10,\n",
    "               reg=0.1)\n",
    "fm_sgd.train(X_train,y_train)"
   ]
  },
  {
   "cell_type": "code",
   "execution_count": 379,
   "metadata": {
    "collapsed": false
   },
   "outputs": [
    {
     "data": {
      "text/plain": [
       "[<matplotlib.lines.Line2D at 0x34507e70>]"
      ]
     },
     "execution_count": 379,
     "metadata": {},
     "output_type": "execute_result"
    },
    {
     "data": {
      "image/png": "[encoded data removed]",
      "text/plain": [
       "<matplotlib.figure.Figure at 0x36ed2dd0>"
      ]
     },
     "metadata": {},
     "output_type": "display_data"
    }
   ],
   "source": [
    "%matplotlib inline\n",
    "from pylab import rcParams\n",
    "rcParams['figure.figsize'] = 15,6\n",
    "plt.grid(True)\n",
    "plt.plot(fm_sgd.mse)"
   ]
  },
  {
   "cell_type": "code",
   "execution_count": 380,
   "metadata": {
    "collapsed": false
   },
   "outputs": [
    {
     "name": "stdout",
     "output_type": "stream",
     "text": [
      "prossing 0th sample...\n"
     ]
    }
   ],
   "source": [
    "mse = fm_sgd.validate(X_test,y_test)"
   ]
  },
  {
   "cell_type": "code",
   "execution_count": null,
   "metadata": {
    "collapsed": true
   },
   "outputs": [],
   "source": []
  }
 ],
 "metadata": {
  "kernelspec": {
   "display_name": "Python 2",
   "language": "python",
   "name": "python2"
  },
  "language_info": {
   "codemirror_mode": {
    "name": "ipython",
    "version": 2
   },
   "file_extension": ".py",
   "mimetype": "text/x-python",
   "name": "python",
   "nbconvert_exporter": "python",
   "pygments_lexer": "ipython2",
   "version": "2.7.11"
  }
 },
 "nbformat": 4,
 "nbformat_minor": 0
}
