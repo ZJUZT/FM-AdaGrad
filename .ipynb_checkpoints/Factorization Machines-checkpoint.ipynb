{
 "cells": [
  {
   "cell_type": "markdown",
   "metadata": {},
   "source": [
    "## load data"
   ]
  },
  {
   "cell_type": "code",
   "execution_count": 70,
   "metadata": {
    "collapsed": true
   },
   "outputs": [],
   "source": [
    "import numpy as np\n",
    "from sklearn.feature_extraction import DictVectorizer\n",
    "import math\n",
    "import matplotlib.pyplot as plt\n",
    "# Read in data\n",
    "def loadData(filename,path=\"ml-100k/\"):\n",
    "    data = []\n",
    "    y = []\n",
    "    users=set()\n",
    "    items=set()\n",
    "    with open(path+filename) as f:\n",
    "        for line in f:\n",
    "            (user,movieid,rating,ts)=line.split('\\t')\n",
    "            data.append({ \"user_id\": str(user), \"movie_id\": str(movieid)})\n",
    "            y.append(float(rating))\n",
    "            users.add(user)\n",
    "            items.add(movieid)\n",
    "\n",
    "    return (data, np.array(y), users, items)"
   ]
  },
  {
   "cell_type": "code",
   "execution_count": 71,
   "metadata": {
    "collapsed": false
   },
   "outputs": [],
   "source": [
    "(train_data, y_train, train_users, train_items) = loadData(\"ua.base\")\n",
    "(test_data, y_test, test_users, test_items) = loadData(\"ua.test\")\n",
    "\n",
    "# (num_user,num_mv) = np.amax(train_data, axis=0)\n",
    "# N = len(train_data)\n",
    "\n",
    "v = DictVectorizer()\n",
    "X_train = v.fit_transform(train_data)\n",
    "X_test = v.transform(test_data)"
   ]
  },
  {
   "cell_type": "code",
   "execution_count": 74,
   "metadata": {
    "collapsed": false
   },
   "outputs": [
    {
     "name": "stdout",
     "output_type": "stream",
     "text": [
      "(90570, 2623)\n"
     ]
    }
   ],
   "source": [
    "print X_train.shape"
   ]
  },
  {
   "cell_type": "markdown",
   "metadata": {},
   "source": [
    "## SGD"
   ]
  },
  {
   "cell_type": "markdown",
   "metadata": {},
   "source": [
    "目标函数\n",
    "![](img_fm/1.png)\n",
    "加入正则项，防止过拟合\n",
    "![](img_fm/2.png)\n",
    "Algorithm for SGD\n",
    "![](img_fm/3.png)\n",
    "![](img_fm/4.png)"
   ]
  },
  {
   "cell_type": "code",
   "execution_count": 75,
   "metadata": {
    "collapsed": false
   },
   "outputs": [
    {
     "ename": "AttributeError",
     "evalue": "'list' object has no attribute 'shape'",
     "output_type": "error",
     "traceback": [
      "\u001b[1;31m---------------------------------------------------------------------------\u001b[0m",
      "\u001b[1;31mAttributeError\u001b[0m                            Traceback (most recent call last)",
      "\u001b[1;32m<ipython-input-75-cf903e40bade>\u001b[0m in \u001b[0;36m<module>\u001b[1;34m()\u001b[0m\n\u001b[0;32m      5\u001b[0m \u001b[0my\u001b[0m \u001b[1;33m=\u001b[0m \u001b[0my_train\u001b[0m\u001b[1;33m\u001b[0m\u001b[0m\n\u001b[0;32m      6\u001b[0m \u001b[1;33m\u001b[0m\u001b[0m\n\u001b[1;32m----> 7\u001b[1;33m \u001b[0mn\u001b[0m \u001b[1;33m=\u001b[0m \u001b[0mtrain_data\u001b[0m\u001b[1;33m.\u001b[0m\u001b[0mshape\u001b[0m\u001b[1;33m(\u001b[0m\u001b[1;36m1\u001b[0m\u001b[1;33m)\u001b[0m\u001b[1;33m\u001b[0m\u001b[0m\n\u001b[0m\u001b[0;32m      8\u001b[0m \u001b[0mk\u001b[0m \u001b[1;33m=\u001b[0m \u001b[1;36m10\u001b[0m\u001b[1;33m\u001b[0m\u001b[0m\n\u001b[0;32m      9\u001b[0m \u001b[1;33m\u001b[0m\u001b[0m\n",
      "\u001b[1;31mAttributeError\u001b[0m: 'list' object has no attribute 'shape'"
     ]
    }
   ],
   "source": [
    "# X = np.ones((N, 3))\n",
    "# X[:,1:] = train_data\n",
    "\n",
    "X = train_data\n",
    "y = y_train\n",
    "\n",
    "n = X_train.shape(1)\n",
    "k = 10\n",
    "\n",
    "w0 = np.random.rand(1)  # bias\n",
    "W = np.random.rand(1,n)\n",
    "V = np.random.rand(n,k)\n",
    "learning_rate = 0.0001\n",
    "\n",
    "loss_sgd = []\n",
    "\n",
    "lamb = 0.1 # use global regularization first"
   ]
  },
  {
   "cell_type": "code",
   "execution_count": 62,
   "metadata": {
    "collapsed": false
   },
   "outputs": [
    {
     "name": "stdout",
     "output_type": "stream",
     "text": [
      "Iter  1 \tloss:  971260.859807\n"
     ]
    }
   ],
   "source": [
    "import math\n",
    "for i in range(1):\n",
    "    \n",
    "    # calculate train error\n",
    "    \n",
    "    y_predict = []\n",
    "    for m in range(N):\n",
    "        fm_part = 0\n",
    "        for j in range(n-1):\n",
    "            for k in range(j+1,n):\n",
    "                fm_part += V[j,:].dot(V[k,:].T)*X[m,j]*X[m,k]\n",
    "\n",
    "        y_predict.append(w0 + np.sum(W.dot(X[m,:])) + fm_part)\n",
    "\n",
    "    y_predict = np.array(y_predict).T\n",
    "    loss = np.sum(np.square(y_predict - y)) + np.sum(np.square(W)) + w0*w0 + np.sum(np.square(V))\n",
    "    loss = math.sqrt(loss / N)\n",
    "    \n",
    "    print \"Iter \" , k  , \"\\t\" + \"loss: \" , loss\n",
    "    \n",
    "    # calculate train error end\n",
    "    \n",
    "    # update params\n",
    "    w0 = w0 - learning_rate*1\n",
    "    W = W - learning_rate*X[i,:]\n",
    "    \n",
    "    \n",
    "#     w0 = w0 - learning_rate * \n",
    "#     W = W - learning_rate * X[i,:] + 2 * lambda * W"
   ]
  },
  {
   "cell_type": "code",
   "execution_count": 59,
   "metadata": {
    "collapsed": false
   },
   "outputs": [
    {
     "data": {
      "text/plain": [
       "array([[  4.78778802e+00],\n",
       "       [  8.54776317e+00],\n",
       "       [  1.23077383e+01],\n",
       "       ..., \n",
       "       [  3.75269012e+06],\n",
       "       [  3.87902984e+06],\n",
       "       [  4.20119613e+06]])"
      ]
     },
     "execution_count": 59,
     "metadata": {},
     "output_type": "execute_result"
    }
   ],
   "source": [
    "y_predict"
   ]
  },
  {
   "cell_type": "code",
   "execution_count": 65,
   "metadata": {
    "collapsed": false
   },
   "outputs": [
    {
     "data": {
      "text/plain": [
       "2625"
      ]
     },
     "execution_count": 65,
     "metadata": {},
     "output_type": "execute_result"
    }
   ],
   "source": [
    "num_user + num_mv"
   ]
  },
  {
   "cell_type": "code",
   "execution_count": null,
   "metadata": {
    "collapsed": true
   },
   "outputs": [],
   "source": []
  }
 ],
 "metadata": {
  "kernelspec": {
   "display_name": "Python 2",
   "language": "python",
   "name": "python2"
  },
  "language_info": {
   "codemirror_mode": {
    "name": "ipython",
    "version": 2
   },
   "file_extension": ".py",
   "mimetype": "text/x-python",
   "name": "python",
   "nbconvert_exporter": "python",
   "pygments_lexer": "ipython2",
   "version": "2.7.11"
  }
 },
 "nbformat": 4,
 "nbformat_minor": 0
}
