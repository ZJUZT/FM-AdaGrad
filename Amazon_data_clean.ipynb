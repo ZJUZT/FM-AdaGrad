{
 "cells": [
  {
   "cell_type": "code",
   "execution_count": 31,
   "metadata": {
    "collapsed": true
   },
   "outputs": [],
   "source": [
    "import json\n",
    "file_name = 'Toys_and_Games_5.json'\n",
    "f = open(file_name)\n",
    "user = set()\n",
    "item = set()\n",
    "\n",
    "for line in f.readlines():\n",
    "    json_str = line.strip()\n",
    "    json_data = json.loads(json_str)\n",
    "    user.add(json_data['reviewerID'])\n",
    "    item.add(json_data['asin'])\n",
    "\n",
    "f.close()"
   ]
  },
  {
   "cell_type": "code",
   "execution_count": 30,
   "metadata": {
    "collapsed": false
   },
   "outputs": [
    {
     "ename": "KeyError",
     "evalue": "u'A1VXOAVRGKGEAK'",
     "output_type": "error",
     "traceback": [
      "\u001b[0;31m---------------------------------------------------------------------------\u001b[0m",
      "\u001b[0;31mKeyError\u001b[0m                                  Traceback (most recent call last)",
      "\u001b[0;32m<ipython-input-30-2809aaff1892>\u001b[0m in \u001b[0;36m<module>\u001b[0;34m()\u001b[0m\n\u001b[1;32m      9\u001b[0m     \u001b[0mjson_str\u001b[0m \u001b[1;33m=\u001b[0m \u001b[0mline\u001b[0m\u001b[1;33m.\u001b[0m\u001b[0mstrip\u001b[0m\u001b[1;33m(\u001b[0m\u001b[1;33m)\u001b[0m\u001b[1;33m\u001b[0m\u001b[0m\n\u001b[1;32m     10\u001b[0m     \u001b[0mjson_data\u001b[0m \u001b[1;33m=\u001b[0m \u001b[0mjson\u001b[0m\u001b[1;33m.\u001b[0m\u001b[0mloads\u001b[0m\u001b[1;33m(\u001b[0m\u001b[0mjson_str\u001b[0m\u001b[1;33m)\u001b[0m\u001b[1;33m\u001b[0m\u001b[0m\n\u001b[0;32m---> 11\u001b[0;31m     \u001b[0muser_id\u001b[0m \u001b[1;33m=\u001b[0m \u001b[0muser_map\u001b[0m\u001b[1;33m[\u001b[0m\u001b[0mjson_data\u001b[0m\u001b[1;33m[\u001b[0m\u001b[1;34m'reviewerID'\u001b[0m\u001b[1;33m]\u001b[0m\u001b[1;33m]\u001b[0m\u001b[1;33m\u001b[0m\u001b[0m\n\u001b[0m\u001b[1;32m     12\u001b[0m     \u001b[0mitem_id\u001b[0m \u001b[1;33m=\u001b[0m \u001b[0mitem_map\u001b[0m\u001b[1;33m[\u001b[0m\u001b[0mjson_data\u001b[0m\u001b[1;33m[\u001b[0m\u001b[1;34m'asin'\u001b[0m\u001b[1;33m]\u001b[0m\u001b[1;33m]\u001b[0m\u001b[1;33m\u001b[0m\u001b[0m\n\u001b[1;32m     13\u001b[0m     \u001b[0mrating\u001b[0m \u001b[1;33m=\u001b[0m \u001b[0mjson_data\u001b[0m\u001b[1;33m[\u001b[0m\u001b[1;34m'overall'\u001b[0m\u001b[1;33m]\u001b[0m\u001b[1;33m\u001b[0m\u001b[0m\n",
      "\u001b[0;31mKeyError\u001b[0m: u'A1VXOAVRGKGEAK'"
     ]
    }
   ],
   "source": [
    "\n",
    "file_name = 'Toys_and_Games_5.json'\n",
    "output_name = 'Toys_and_Games_5.csv'\n",
    "f = open(file_name)\n",
    "f1 = open(output_name,'wb')\n",
    "\n",
    "\n",
    "for line in f.readlines():\n",
    "    json_str = line.strip()\n",
    "    json_data = json.loads(json_str)\n",
    "    user_id = user_map[json_data['reviewerID']]\n",
    "    item_id = item_map[json_data['asin']]\n",
    "    rating = json_data['overall']\n",
    "    f1.write(','.join([str(user_id),str(item_id),str(rating)])+'\\n')\n",
    "\n",
    "f.close()\n",
    "f1.close()"
   ]
  },
  {
   "cell_type": "code",
   "execution_count": 25,
   "metadata": {
    "collapsed": false
   },
   "outputs": [],
   "source": [
    "user_map = {}\n",
    "item_map = {}\n",
    "for i in xrange(len(user)):\n",
    "    user_map[user[i]] = i+1\n",
    "\n",
    "for i in xrange(len(item)):\n",
    "    item_map[item[i]] = i+1"
   ]
  },
  {
   "cell_type": "code",
   "execution_count": 33,
   "metadata": {
    "collapsed": false
   },
   "outputs": [
    {
     "data": {
      "text/plain": [
       "11924"
      ]
     },
     "execution_count": 33,
     "metadata": {},
     "output_type": "execute_result"
    }
   ],
   "source": [
    "len(item)"
   ]
  }
 ],
 "metadata": {
  "kernelspec": {
   "display_name": "Python 2",
   "language": "python",
   "name": "python2"
  },
  "language_info": {
   "codemirror_mode": {
    "name": "ipython",
    "version": 2
   },
   "file_extension": ".py",
   "mimetype": "text/x-python",
   "name": "python",
   "nbconvert_exporter": "python",
   "pygments_lexer": "ipython2",
   "version": "2.7.12"
  }
 },
 "nbformat": 4,
 "nbformat_minor": 1
}
